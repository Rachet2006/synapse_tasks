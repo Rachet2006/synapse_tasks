{
 "cells": [
  {
   "cell_type": "markdown",
   "id": "65a4a059",
   "metadata": {
    "papermill": {
     "duration": 0.008246,
     "end_time": "2025-08-25T18:31:28.124279",
     "exception": false,
     "start_time": "2025-08-25T18:31:28.116033",
     "status": "completed"
    },
    "tags": []
   },
   "source": [
    "Welcome to your next checkpoint on the Synapse road!\n",
    "Today we’re diving into the Video Game Sales dataset to practice real-world data preprocessing + EDA. Think of this like prepping ingredients before cooking — we’ll clean, slice, and plate the data so insights pop 🍽️"
   ]
  },
  {
   "cell_type": "markdown",
   "id": "f1215d89",
   "metadata": {
    "papermill": {
     "duration": 0.00641,
     "end_time": "2025-08-25T18:31:28.137868",
     "exception": false,
     "start_time": "2025-08-25T18:31:28.131458",
     "status": "completed"
    },
    "tags": []
   },
   "source": [
    "We’ll be using pandas, numpy, matplotlib, and seaborn for this task.\n",
    "Run the following cell to import them"
   ]
  },
  {
   "cell_type": "code",
   "execution_count": 2,
   "id": "296e21fc",
   "metadata": {
    "execution": {
     "iopub.execute_input": "2025-08-25T18:31:28.153262Z",
     "iopub.status.busy": "2025-08-25T18:31:28.152846Z",
     "iopub.status.idle": "2025-08-25T18:31:32.216912Z",
     "shell.execute_reply": "2025-08-25T18:31:32.215492Z"
    },
    "papermill": {
     "duration": 4.074642,
     "end_time": "2025-08-25T18:31:32.219409",
     "exception": false,
     "start_time": "2025-08-25T18:31:28.144767",
     "status": "completed"
    },
    "tags": []
   },
   "outputs": [],
   "source": [
    "import pandas as pd\n",
    "import numpy as np\n",
    "import matplotlib.pyplot as plt\n",
    "import seaborn as sns"
   ]
  },
  {
   "cell_type": "markdown",
   "id": "b34540ec",
   "metadata": {
    "papermill": {
     "duration": 0.006804,
     "end_time": "2025-08-25T18:31:32.234338",
     "exception": false,
     "start_time": "2025-08-25T18:31:32.227534",
     "status": "completed"
    },
    "tags": []
   },
   "source": [
    "Alright, now that we’ve got our tools ready, let’s bring in the star of the show — the **Video Game Sales dataset** 🎮  \n",
    "\n",
    "Your task:  \n",
    "- Load the dataset into a pandas DataFrame.  \n",
    "- Take a quick peek at the first few rows using.  \n",
    "- Check the shape of the dataset to see how big this universe is.  \n",
    "\n",
    "Think of this step as unboxing a new console — gotta see what’s inside first!  \n"
   ]
  },
  {
   "cell_type": "code",
   "execution_count": 5,
   "id": "50bdf3f2",
   "metadata": {
    "execution": {
     "iopub.execute_input": "2025-08-25T18:31:32.249628Z",
     "iopub.status.busy": "2025-08-25T18:31:32.249070Z",
     "iopub.status.idle": "2025-08-25T18:31:32.340396Z",
     "shell.execute_reply": "2025-08-25T18:31:32.339320Z"
    },
    "papermill": {
     "duration": 0.101502,
     "end_time": "2025-08-25T18:31:32.342599",
     "exception": false,
     "start_time": "2025-08-25T18:31:32.241097",
     "status": "completed"
    },
    "tags": []
   },
   "outputs": [],
   "source": [
    "df = pd.read_csv(\"vgsales.csv\")"
   ]
  },
  {
   "cell_type": "code",
   "execution_count": 6,
   "id": "1ffbf0c7",
   "metadata": {
    "execution": {
     "iopub.execute_input": "2025-08-25T18:31:32.358745Z",
     "iopub.status.busy": "2025-08-25T18:31:32.358392Z",
     "iopub.status.idle": "2025-08-25T18:31:32.391643Z",
     "shell.execute_reply": "2025-08-25T18:31:32.390598Z"
    },
    "papermill": {
     "duration": 0.043312,
     "end_time": "2025-08-25T18:31:32.393462",
     "exception": false,
     "start_time": "2025-08-25T18:31:32.350150",
     "status": "completed"
    },
    "tags": []
   },
   "outputs": [
    {
     "data": {
      "application/vnd.microsoft.datawrangler.viewer.v0+json": {
       "columns": [
        {
         "name": "index",
         "rawType": "int64",
         "type": "integer"
        },
        {
         "name": "Rank",
         "rawType": "int64",
         "type": "integer"
        },
        {
         "name": "Name",
         "rawType": "object",
         "type": "string"
        },
        {
         "name": "Platform",
         "rawType": "object",
         "type": "string"
        },
        {
         "name": "Year",
         "rawType": "float64",
         "type": "float"
        },
        {
         "name": "Genre",
         "rawType": "object",
         "type": "string"
        },
        {
         "name": "Publisher",
         "rawType": "object",
         "type": "string"
        },
        {
         "name": "NA_Sales",
         "rawType": "float64",
         "type": "float"
        },
        {
         "name": "EU_Sales",
         "rawType": "float64",
         "type": "float"
        },
        {
         "name": "JP_Sales",
         "rawType": "float64",
         "type": "float"
        },
        {
         "name": "Other_Sales",
         "rawType": "float64",
         "type": "float"
        },
        {
         "name": "Global_Sales",
         "rawType": "float64",
         "type": "float"
        }
       ],
       "ref": "f244f09b-c019-4417-823c-4dda90d4c018",
       "rows": [
        [
         "0",
         "1",
         "Wii Sports",
         "Wii",
         "2006.0",
         "Sports",
         "Nintendo",
         "41.49",
         "29.02",
         "3.77",
         "8.46",
         "82.74"
        ],
        [
         "1",
         "2",
         "Super Mario Bros.",
         "NES",
         "1985.0",
         "Platform",
         "Nintendo",
         "29.08",
         "3.58",
         "6.81",
         "0.77",
         "40.24"
        ],
        [
         "2",
         "3",
         "Mario Kart Wii",
         "Wii",
         "2008.0",
         "Racing",
         "Nintendo",
         "15.85",
         "12.88",
         "3.79",
         "3.31",
         "35.82"
        ],
        [
         "3",
         "4",
         "Wii Sports Resort",
         "Wii",
         "2009.0",
         "Sports",
         "Nintendo",
         "15.75",
         "11.01",
         "3.28",
         "2.96",
         "33.0"
        ],
        [
         "4",
         "5",
         "Pokemon Red/Pokemon Blue",
         "GB",
         "1996.0",
         "Role-Playing",
         "Nintendo",
         "11.27",
         "8.89",
         "10.22",
         "1.0",
         "31.37"
        ]
       ],
       "shape": {
        "columns": 11,
        "rows": 5
       }
      },
      "text/html": [
       "<div>\n",
       "<style scoped>\n",
       "    .dataframe tbody tr th:only-of-type {\n",
       "        vertical-align: middle;\n",
       "    }\n",
       "\n",
       "    .dataframe tbody tr th {\n",
       "        vertical-align: top;\n",
       "    }\n",
       "\n",
       "    .dataframe thead th {\n",
       "        text-align: right;\n",
       "    }\n",
       "</style>\n",
       "<table border=\"1\" class=\"dataframe\">\n",
       "  <thead>\n",
       "    <tr style=\"text-align: right;\">\n",
       "      <th></th>\n",
       "      <th>Rank</th>\n",
       "      <th>Name</th>\n",
       "      <th>Platform</th>\n",
       "      <th>Year</th>\n",
       "      <th>Genre</th>\n",
       "      <th>Publisher</th>\n",
       "      <th>NA_Sales</th>\n",
       "      <th>EU_Sales</th>\n",
       "      <th>JP_Sales</th>\n",
       "      <th>Other_Sales</th>\n",
       "      <th>Global_Sales</th>\n",
       "    </tr>\n",
       "  </thead>\n",
       "  <tbody>\n",
       "    <tr>\n",
       "      <th>0</th>\n",
       "      <td>1</td>\n",
       "      <td>Wii Sports</td>\n",
       "      <td>Wii</td>\n",
       "      <td>2006.0</td>\n",
       "      <td>Sports</td>\n",
       "      <td>Nintendo</td>\n",
       "      <td>41.49</td>\n",
       "      <td>29.02</td>\n",
       "      <td>3.77</td>\n",
       "      <td>8.46</td>\n",
       "      <td>82.74</td>\n",
       "    </tr>\n",
       "    <tr>\n",
       "      <th>1</th>\n",
       "      <td>2</td>\n",
       "      <td>Super Mario Bros.</td>\n",
       "      <td>NES</td>\n",
       "      <td>1985.0</td>\n",
       "      <td>Platform</td>\n",
       "      <td>Nintendo</td>\n",
       "      <td>29.08</td>\n",
       "      <td>3.58</td>\n",
       "      <td>6.81</td>\n",
       "      <td>0.77</td>\n",
       "      <td>40.24</td>\n",
       "    </tr>\n",
       "    <tr>\n",
       "      <th>2</th>\n",
       "      <td>3</td>\n",
       "      <td>Mario Kart Wii</td>\n",
       "      <td>Wii</td>\n",
       "      <td>2008.0</td>\n",
       "      <td>Racing</td>\n",
       "      <td>Nintendo</td>\n",
       "      <td>15.85</td>\n",
       "      <td>12.88</td>\n",
       "      <td>3.79</td>\n",
       "      <td>3.31</td>\n",
       "      <td>35.82</td>\n",
       "    </tr>\n",
       "    <tr>\n",
       "      <th>3</th>\n",
       "      <td>4</td>\n",
       "      <td>Wii Sports Resort</td>\n",
       "      <td>Wii</td>\n",
       "      <td>2009.0</td>\n",
       "      <td>Sports</td>\n",
       "      <td>Nintendo</td>\n",
       "      <td>15.75</td>\n",
       "      <td>11.01</td>\n",
       "      <td>3.28</td>\n",
       "      <td>2.96</td>\n",
       "      <td>33.00</td>\n",
       "    </tr>\n",
       "    <tr>\n",
       "      <th>4</th>\n",
       "      <td>5</td>\n",
       "      <td>Pokemon Red/Pokemon Blue</td>\n",
       "      <td>GB</td>\n",
       "      <td>1996.0</td>\n",
       "      <td>Role-Playing</td>\n",
       "      <td>Nintendo</td>\n",
       "      <td>11.27</td>\n",
       "      <td>8.89</td>\n",
       "      <td>10.22</td>\n",
       "      <td>1.00</td>\n",
       "      <td>31.37</td>\n",
       "    </tr>\n",
       "  </tbody>\n",
       "</table>\n",
       "</div>"
      ],
      "text/plain": [
       "   Rank                      Name Platform    Year         Genre Publisher  \\\n",
       "0     1                Wii Sports      Wii  2006.0        Sports  Nintendo   \n",
       "1     2         Super Mario Bros.      NES  1985.0      Platform  Nintendo   \n",
       "2     3            Mario Kart Wii      Wii  2008.0        Racing  Nintendo   \n",
       "3     4         Wii Sports Resort      Wii  2009.0        Sports  Nintendo   \n",
       "4     5  Pokemon Red/Pokemon Blue       GB  1996.0  Role-Playing  Nintendo   \n",
       "\n",
       "   NA_Sales  EU_Sales  JP_Sales  Other_Sales  Global_Sales  \n",
       "0     41.49     29.02      3.77         8.46         82.74  \n",
       "1     29.08      3.58      6.81         0.77         40.24  \n",
       "2     15.85     12.88      3.79         3.31         35.82  \n",
       "3     15.75     11.01      3.28         2.96         33.00  \n",
       "4     11.27      8.89     10.22         1.00         31.37  "
      ]
     },
     "execution_count": 6,
     "metadata": {},
     "output_type": "execute_result"
    }
   ],
   "source": [
    "df.head()"
   ]
  },
  {
   "cell_type": "code",
   "execution_count": 7,
   "id": "24943bb9",
   "metadata": {
    "execution": {
     "iopub.execute_input": "2025-08-25T18:31:32.409915Z",
     "iopub.status.busy": "2025-08-25T18:31:32.409582Z",
     "iopub.status.idle": "2025-08-25T18:31:32.415732Z",
     "shell.execute_reply": "2025-08-25T18:31:32.414818Z"
    },
    "papermill": {
     "duration": 0.016434,
     "end_time": "2025-08-25T18:31:32.417361",
     "exception": false,
     "start_time": "2025-08-25T18:31:32.400927",
     "status": "completed"
    },
    "tags": []
   },
   "outputs": [
    {
     "data": {
      "text/plain": [
       "(16598, 11)"
      ]
     },
     "execution_count": 7,
     "metadata": {},
     "output_type": "execute_result"
    }
   ],
   "source": [
    "df.shape"
   ]
  },
  {
   "cell_type": "markdown",
   "id": "56f203d1",
   "metadata": {
    "papermill": {
     "duration": 0.007495,
     "end_time": "2025-08-25T18:31:32.433030",
     "exception": false,
     "start_time": "2025-08-25T18:31:32.425535",
     "status": "completed"
    },
    "tags": []
   },
   "source": [
    "### 🕹️ Level 1: Meet the Characters  \n",
    "\n",
    "Now that we’ve unboxed our dataset, let’s get to know the **cast of characters**:  \n",
    "- What kinds of columns do we have? (numeric, object, etc.)  \n",
    "- How many missing values are there?  \n",
    "\n",
    "Your task:  \n",
    "- To get a quick overview of column types + null values.  \n",
    "- To double-check the data types.  \n",
    "\n",
    "This step is like reading the **character bios** before starting a game   \n"
   ]
  },
  {
   "cell_type": "code",
   "execution_count": 8,
   "id": "33d48522",
   "metadata": {
    "execution": {
     "iopub.execute_input": "2025-08-25T18:31:32.449525Z",
     "iopub.status.busy": "2025-08-25T18:31:32.449178Z",
     "iopub.status.idle": "2025-08-25T18:31:32.481256Z",
     "shell.execute_reply": "2025-08-25T18:31:32.480081Z"
    },
    "papermill": {
     "duration": 0.042571,
     "end_time": "2025-08-25T18:31:32.483053",
     "exception": false,
     "start_time": "2025-08-25T18:31:32.440482",
     "status": "completed"
    },
    "tags": []
   },
   "outputs": [
    {
     "name": "stdout",
     "output_type": "stream",
     "text": [
      "<class 'pandas.core.frame.DataFrame'>\n",
      "RangeIndex: 16598 entries, 0 to 16597\n",
      "Data columns (total 11 columns):\n",
      " #   Column        Non-Null Count  Dtype  \n",
      "---  ------        --------------  -----  \n",
      " 0   Rank          16598 non-null  int64  \n",
      " 1   Name          16598 non-null  object \n",
      " 2   Platform      16598 non-null  object \n",
      " 3   Year          16327 non-null  float64\n",
      " 4   Genre         16598 non-null  object \n",
      " 5   Publisher     16540 non-null  object \n",
      " 6   NA_Sales      16598 non-null  float64\n",
      " 7   EU_Sales      16598 non-null  float64\n",
      " 8   JP_Sales      16598 non-null  float64\n",
      " 9   Other_Sales   16598 non-null  float64\n",
      " 10  Global_Sales  16598 non-null  float64\n",
      "dtypes: float64(6), int64(1), object(4)\n",
      "memory usage: 1.4+ MB\n"
     ]
    }
   ],
   "source": [
    "df.info()"
   ]
  },
  {
   "cell_type": "code",
   "execution_count": 9,
   "id": "904fa027",
   "metadata": {
    "execution": {
     "iopub.execute_input": "2025-08-25T18:31:32.499705Z",
     "iopub.status.busy": "2025-08-25T18:31:32.499408Z",
     "iopub.status.idle": "2025-08-25T18:31:32.511920Z",
     "shell.execute_reply": "2025-08-25T18:31:32.511064Z"
    },
    "papermill": {
     "duration": 0.023013,
     "end_time": "2025-08-25T18:31:32.513755",
     "exception": false,
     "start_time": "2025-08-25T18:31:32.490742",
     "status": "completed"
    },
    "tags": []
   },
   "outputs": [
    {
     "data": {
      "application/vnd.microsoft.datawrangler.viewer.v0+json": {
       "columns": [
        {
         "name": "index",
         "rawType": "object",
         "type": "string"
        },
        {
         "name": "0",
         "rawType": "int64",
         "type": "integer"
        }
       ],
       "ref": "6044896a-395d-46b2-862d-24c2cc3595cb",
       "rows": [
        [
         "Rank",
         "0"
        ],
        [
         "Name",
         "0"
        ],
        [
         "Platform",
         "0"
        ],
        [
         "Year",
         "271"
        ],
        [
         "Genre",
         "0"
        ],
        [
         "Publisher",
         "58"
        ],
        [
         "NA_Sales",
         "0"
        ],
        [
         "EU_Sales",
         "0"
        ],
        [
         "JP_Sales",
         "0"
        ],
        [
         "Other_Sales",
         "0"
        ],
        [
         "Global_Sales",
         "0"
        ]
       ],
       "shape": {
        "columns": 1,
        "rows": 11
       }
      },
      "text/plain": [
       "Rank              0\n",
       "Name              0\n",
       "Platform          0\n",
       "Year            271\n",
       "Genre             0\n",
       "Publisher        58\n",
       "NA_Sales          0\n",
       "EU_Sales          0\n",
       "JP_Sales          0\n",
       "Other_Sales       0\n",
       "Global_Sales      0\n",
       "dtype: int64"
      ]
     },
     "execution_count": 9,
     "metadata": {},
     "output_type": "execute_result"
    }
   ],
   "source": [
    "df.isna().sum()"
   ]
  },
  {
   "cell_type": "markdown",
   "id": "a2c1be6d",
   "metadata": {
    "papermill": {
     "duration": 0.007354,
     "end_time": "2025-08-25T18:31:32.529228",
     "exception": false,
     "start_time": "2025-08-25T18:31:32.521874",
     "status": "completed"
    },
    "tags": []
   },
   "source": [
    "### 🎯 Level 2: Quick Stats Check (Describe the Data)  \n",
    "\n",
    "Every good gamer checks the **stats screen** before playing  \n",
    "Now, let’s do the same for our dataset:  \n",
    "\n",
    "Your task:  \n",
    "- To get summary statistics for numerical columns.  \n",
    "- Notice things like average sales, max values, and distribution hints.  \n",
    "\n",
    "This is like peeking at the **scoreboard** — who’s leading, what’s the high score?   \n"
   ]
  },
  {
   "cell_type": "code",
   "execution_count": 10,
   "id": "c809c406",
   "metadata": {
    "execution": {
     "iopub.execute_input": "2025-08-25T18:31:32.546157Z",
     "iopub.status.busy": "2025-08-25T18:31:32.545587Z",
     "iopub.status.idle": "2025-08-25T18:31:32.591767Z",
     "shell.execute_reply": "2025-08-25T18:31:32.590531Z"
    },
    "papermill": {
     "duration": 0.056664,
     "end_time": "2025-08-25T18:31:32.593459",
     "exception": false,
     "start_time": "2025-08-25T18:31:32.536795",
     "status": "completed"
    },
    "tags": []
   },
   "outputs": [
    {
     "data": {
      "application/vnd.microsoft.datawrangler.viewer.v0+json": {
       "columns": [
        {
         "name": "index",
         "rawType": "object",
         "type": "string"
        },
        {
         "name": "Rank",
         "rawType": "float64",
         "type": "float"
        },
        {
         "name": "Year",
         "rawType": "float64",
         "type": "float"
        },
        {
         "name": "NA_Sales",
         "rawType": "float64",
         "type": "float"
        },
        {
         "name": "EU_Sales",
         "rawType": "float64",
         "type": "float"
        },
        {
         "name": "JP_Sales",
         "rawType": "float64",
         "type": "float"
        },
        {
         "name": "Other_Sales",
         "rawType": "float64",
         "type": "float"
        },
        {
         "name": "Global_Sales",
         "rawType": "float64",
         "type": "float"
        }
       ],
       "ref": "64db43ac-7ce6-4991-aa12-c5bd94983df6",
       "rows": [
        [
         "count",
         "16598.0",
         "16327.0",
         "16598.0",
         "16598.0",
         "16598.0",
         "16598.0",
         "16598.0"
        ],
        [
         "mean",
         "8300.605253645017",
         "2006.4064433147546",
         "0.26466742981082064",
         "0.14665200626581515",
         "0.077781660441017",
         "0.0480630196409206",
         "0.5374406555006628"
        ],
        [
         "std",
         "4791.853932896403",
         "5.828981114712805",
         "0.8166830292988796",
         "0.5053512312869116",
         "0.30929064808220297",
         "0.18858840291271461",
         "1.5550279355699124"
        ],
        [
         "min",
         "1.0",
         "1980.0",
         "0.0",
         "0.0",
         "0.0",
         "0.0",
         "0.01"
        ],
        [
         "25%",
         "4151.25",
         "2003.0",
         "0.0",
         "0.0",
         "0.0",
         "0.0",
         "0.06"
        ],
        [
         "50%",
         "8300.5",
         "2007.0",
         "0.08",
         "0.02",
         "0.0",
         "0.01",
         "0.17"
        ],
        [
         "75%",
         "12449.75",
         "2010.0",
         "0.24",
         "0.11",
         "0.04",
         "0.04",
         "0.47"
        ],
        [
         "max",
         "16600.0",
         "2020.0",
         "41.49",
         "29.02",
         "10.22",
         "10.57",
         "82.74"
        ]
       ],
       "shape": {
        "columns": 7,
        "rows": 8
       }
      },
      "text/html": [
       "<div>\n",
       "<style scoped>\n",
       "    .dataframe tbody tr th:only-of-type {\n",
       "        vertical-align: middle;\n",
       "    }\n",
       "\n",
       "    .dataframe tbody tr th {\n",
       "        vertical-align: top;\n",
       "    }\n",
       "\n",
       "    .dataframe thead th {\n",
       "        text-align: right;\n",
       "    }\n",
       "</style>\n",
       "<table border=\"1\" class=\"dataframe\">\n",
       "  <thead>\n",
       "    <tr style=\"text-align: right;\">\n",
       "      <th></th>\n",
       "      <th>Rank</th>\n",
       "      <th>Year</th>\n",
       "      <th>NA_Sales</th>\n",
       "      <th>EU_Sales</th>\n",
       "      <th>JP_Sales</th>\n",
       "      <th>Other_Sales</th>\n",
       "      <th>Global_Sales</th>\n",
       "    </tr>\n",
       "  </thead>\n",
       "  <tbody>\n",
       "    <tr>\n",
       "      <th>count</th>\n",
       "      <td>16598.000000</td>\n",
       "      <td>16327.000000</td>\n",
       "      <td>16598.000000</td>\n",
       "      <td>16598.000000</td>\n",
       "      <td>16598.000000</td>\n",
       "      <td>16598.000000</td>\n",
       "      <td>16598.000000</td>\n",
       "    </tr>\n",
       "    <tr>\n",
       "      <th>mean</th>\n",
       "      <td>8300.605254</td>\n",
       "      <td>2006.406443</td>\n",
       "      <td>0.264667</td>\n",
       "      <td>0.146652</td>\n",
       "      <td>0.077782</td>\n",
       "      <td>0.048063</td>\n",
       "      <td>0.537441</td>\n",
       "    </tr>\n",
       "    <tr>\n",
       "      <th>std</th>\n",
       "      <td>4791.853933</td>\n",
       "      <td>5.828981</td>\n",
       "      <td>0.816683</td>\n",
       "      <td>0.505351</td>\n",
       "      <td>0.309291</td>\n",
       "      <td>0.188588</td>\n",
       "      <td>1.555028</td>\n",
       "    </tr>\n",
       "    <tr>\n",
       "      <th>min</th>\n",
       "      <td>1.000000</td>\n",
       "      <td>1980.000000</td>\n",
       "      <td>0.000000</td>\n",
       "      <td>0.000000</td>\n",
       "      <td>0.000000</td>\n",
       "      <td>0.000000</td>\n",
       "      <td>0.010000</td>\n",
       "    </tr>\n",
       "    <tr>\n",
       "      <th>25%</th>\n",
       "      <td>4151.250000</td>\n",
       "      <td>2003.000000</td>\n",
       "      <td>0.000000</td>\n",
       "      <td>0.000000</td>\n",
       "      <td>0.000000</td>\n",
       "      <td>0.000000</td>\n",
       "      <td>0.060000</td>\n",
       "    </tr>\n",
       "    <tr>\n",
       "      <th>50%</th>\n",
       "      <td>8300.500000</td>\n",
       "      <td>2007.000000</td>\n",
       "      <td>0.080000</td>\n",
       "      <td>0.020000</td>\n",
       "      <td>0.000000</td>\n",
       "      <td>0.010000</td>\n",
       "      <td>0.170000</td>\n",
       "    </tr>\n",
       "    <tr>\n",
       "      <th>75%</th>\n",
       "      <td>12449.750000</td>\n",
       "      <td>2010.000000</td>\n",
       "      <td>0.240000</td>\n",
       "      <td>0.110000</td>\n",
       "      <td>0.040000</td>\n",
       "      <td>0.040000</td>\n",
       "      <td>0.470000</td>\n",
       "    </tr>\n",
       "    <tr>\n",
       "      <th>max</th>\n",
       "      <td>16600.000000</td>\n",
       "      <td>2020.000000</td>\n",
       "      <td>41.490000</td>\n",
       "      <td>29.020000</td>\n",
       "      <td>10.220000</td>\n",
       "      <td>10.570000</td>\n",
       "      <td>82.740000</td>\n",
       "    </tr>\n",
       "  </tbody>\n",
       "</table>\n",
       "</div>"
      ],
      "text/plain": [
       "               Rank          Year      NA_Sales      EU_Sales      JP_Sales  \\\n",
       "count  16598.000000  16327.000000  16598.000000  16598.000000  16598.000000   \n",
       "mean    8300.605254   2006.406443      0.264667      0.146652      0.077782   \n",
       "std     4791.853933      5.828981      0.816683      0.505351      0.309291   \n",
       "min        1.000000   1980.000000      0.000000      0.000000      0.000000   \n",
       "25%     4151.250000   2003.000000      0.000000      0.000000      0.000000   \n",
       "50%     8300.500000   2007.000000      0.080000      0.020000      0.000000   \n",
       "75%    12449.750000   2010.000000      0.240000      0.110000      0.040000   \n",
       "max    16600.000000   2020.000000     41.490000     29.020000     10.220000   \n",
       "\n",
       "        Other_Sales  Global_Sales  \n",
       "count  16598.000000  16598.000000  \n",
       "mean       0.048063      0.537441  \n",
       "std        0.188588      1.555028  \n",
       "min        0.000000      0.010000  \n",
       "25%        0.000000      0.060000  \n",
       "50%        0.010000      0.170000  \n",
       "75%        0.040000      0.470000  \n",
       "max       10.570000     82.740000  "
      ]
     },
     "execution_count": 10,
     "metadata": {},
     "output_type": "execute_result"
    }
   ],
   "source": [
    "df[['Rank','Year','NA_Sales','EU_Sales','JP_Sales','Other_Sales','Global_Sales']].describe()"
   ]
  },
  {
   "cell_type": "markdown",
   "id": "da20a79e",
   "metadata": {
    "papermill": {
     "duration": 0.008001,
     "end_time": "2025-08-25T18:31:32.609413",
     "exception": false,
     "start_time": "2025-08-25T18:31:32.601412",
     "status": "completed"
    },
    "tags": []
   },
   "source": [
    "## 🧹 Level 3: Clean the Map (Missing Values)\n",
    "\n",
    "Time to sweep the floor before we play.\n",
    "\n",
    "**Your tasks:**\n",
    "- Check how many missing values are in each column.\n",
    "- For this dataset, handle missing values in **`Year`** and **`Publisher`** by removing those rows.\n",
    "- Re-check to confirm there are **no missing values left**.\n",
    "\n",
    "> Tip: Do a quick sanity check after cleaning (row count should drop a bit).\n"
   ]
  },
  {
   "cell_type": "code",
   "execution_count": 11,
   "id": "7ba5b116",
   "metadata": {
    "execution": {
     "iopub.execute_input": "2025-08-25T18:31:32.626221Z",
     "iopub.status.busy": "2025-08-25T18:31:32.625818Z",
     "iopub.status.idle": "2025-08-25T18:31:32.643354Z",
     "shell.execute_reply": "2025-08-25T18:31:32.642318Z"
    },
    "papermill": {
     "duration": 0.028058,
     "end_time": "2025-08-25T18:31:32.645258",
     "exception": false,
     "start_time": "2025-08-25T18:31:32.617200",
     "status": "completed"
    },
    "tags": []
   },
   "outputs": [],
   "source": [
    "df.isna().sum()\n",
    "df = df.dropna()"
   ]
  },
  {
   "cell_type": "code",
   "execution_count": 12,
   "id": "5a55205c",
   "metadata": {
    "execution": {
     "iopub.execute_input": "2025-08-25T18:31:32.661721Z",
     "iopub.status.busy": "2025-08-25T18:31:32.661274Z",
     "iopub.status.idle": "2025-08-25T18:31:32.674219Z",
     "shell.execute_reply": "2025-08-25T18:31:32.673225Z"
    },
    "papermill": {
     "duration": 0.023571,
     "end_time": "2025-08-25T18:31:32.676316",
     "exception": false,
     "start_time": "2025-08-25T18:31:32.652745",
     "status": "completed"
    },
    "tags": []
   },
   "outputs": [
    {
     "data": {
      "application/vnd.microsoft.datawrangler.viewer.v0+json": {
       "columns": [
        {
         "name": "index",
         "rawType": "object",
         "type": "string"
        },
        {
         "name": "0",
         "rawType": "int64",
         "type": "integer"
        }
       ],
       "ref": "eed44810-6618-4714-9ce8-7ac340e36f30",
       "rows": [
        [
         "Rank",
         "0"
        ],
        [
         "Name",
         "0"
        ],
        [
         "Platform",
         "0"
        ],
        [
         "Year",
         "0"
        ],
        [
         "Genre",
         "0"
        ],
        [
         "Publisher",
         "0"
        ],
        [
         "NA_Sales",
         "0"
        ],
        [
         "EU_Sales",
         "0"
        ],
        [
         "JP_Sales",
         "0"
        ],
        [
         "Other_Sales",
         "0"
        ],
        [
         "Global_Sales",
         "0"
        ]
       ],
       "shape": {
        "columns": 1,
        "rows": 11
       }
      },
      "text/plain": [
       "Rank            0\n",
       "Name            0\n",
       "Platform        0\n",
       "Year            0\n",
       "Genre           0\n",
       "Publisher       0\n",
       "NA_Sales        0\n",
       "EU_Sales        0\n",
       "JP_Sales        0\n",
       "Other_Sales     0\n",
       "Global_Sales    0\n",
       "dtype: int64"
      ]
     },
     "execution_count": 12,
     "metadata": {},
     "output_type": "execute_result"
    }
   ],
   "source": [
    "df.isna().sum()"
   ]
  },
  {
   "cell_type": "markdown",
   "id": "d93276bb",
   "metadata": {
    "papermill": {
     "duration": 0.007237,
     "end_time": "2025-08-25T18:31:32.691573",
     "exception": false,
     "start_time": "2025-08-25T18:31:32.684336",
     "status": "completed"
    },
    "tags": []
   },
   "source": [
    "## 🔢 Level 4: Patch the `Year` Column (Data Types)\n",
    "\n",
    "`Year` often shows up as a float (e.g., `2008.0`) because of missing values earlier.\n",
    "\n",
    "**Your tasks:**\n",
    "- Convert **`Year`** to **integer**.\n",
    "- Re-run a quick `info` to confirm the dtype change.\n",
    "\n",
    "> If conversion fails, revisit Level 3 — some NaNs may still be lurking.\n"
   ]
  },
  {
   "cell_type": "code",
   "execution_count": 13,
   "id": "6eab3665",
   "metadata": {
    "execution": {
     "iopub.execute_input": "2025-08-25T18:31:32.708699Z",
     "iopub.status.busy": "2025-08-25T18:31:32.708355Z",
     "iopub.status.idle": "2025-08-25T18:31:32.725714Z",
     "shell.execute_reply": "2025-08-25T18:31:32.724481Z"
    },
    "papermill": {
     "duration": 0.02851,
     "end_time": "2025-08-25T18:31:32.727578",
     "exception": false,
     "start_time": "2025-08-25T18:31:32.699068",
     "status": "completed"
    },
    "tags": []
   },
   "outputs": [
    {
     "name": "stdout",
     "output_type": "stream",
     "text": [
      "<class 'pandas.core.frame.DataFrame'>\n",
      "Index: 16291 entries, 0 to 16597\n",
      "Data columns (total 11 columns):\n",
      " #   Column        Non-Null Count  Dtype  \n",
      "---  ------        --------------  -----  \n",
      " 0   Rank          16291 non-null  int64  \n",
      " 1   Name          16291 non-null  object \n",
      " 2   Platform      16291 non-null  object \n",
      " 3   Year          16291 non-null  int64  \n",
      " 4   Genre         16291 non-null  object \n",
      " 5   Publisher     16291 non-null  object \n",
      " 6   NA_Sales      16291 non-null  float64\n",
      " 7   EU_Sales      16291 non-null  float64\n",
      " 8   JP_Sales      16291 non-null  float64\n",
      " 9   Other_Sales   16291 non-null  float64\n",
      " 10  Global_Sales  16291 non-null  float64\n",
      "dtypes: float64(5), int64(2), object(4)\n",
      "memory usage: 1.5+ MB\n"
     ]
    }
   ],
   "source": [
    "df['Year'] = df['Year'].astype(int)\n",
    "df.info()"
   ]
  },
  {
   "cell_type": "markdown",
   "id": "07ed8842",
   "metadata": {
    "papermill": {
     "duration": 0.007746,
     "end_time": "2025-08-25T18:31:32.743657",
     "exception": false,
     "start_time": "2025-08-25T18:31:32.735911",
     "status": "completed"
    },
    "tags": []
   },
   "source": [
    "\n",
    "## 🎮 Level 5: Spotting the Legends  \n",
    "Now that we’ve explored platforms and genres, let’s look at the **all-time best sellers**.  \n",
    "Your task:  \n",
    "\n",
    "List the **Top 5 best-selling video games**.  \n",
    "We’ll display their **Name, Platform, Genre, and Global Sales**.  \n",
    "\n",
    "Think of this as the **Hall of Fame of Video Games** \n",
    "\n",
    "\n"
   ]
  },
  {
   "cell_type": "code",
   "execution_count": 14,
   "id": "c37b64b1",
   "metadata": {
    "execution": {
     "iopub.execute_input": "2025-08-25T18:31:32.761363Z",
     "iopub.status.busy": "2025-08-25T18:31:32.760934Z",
     "iopub.status.idle": "2025-08-25T18:31:32.774074Z",
     "shell.execute_reply": "2025-08-25T18:31:32.773092Z"
    },
    "papermill": {
     "duration": 0.023951,
     "end_time": "2025-08-25T18:31:32.775557",
     "exception": false,
     "start_time": "2025-08-25T18:31:32.751606",
     "status": "completed"
    },
    "tags": []
   },
   "outputs": [
    {
     "data": {
      "application/vnd.microsoft.datawrangler.viewer.v0+json": {
       "columns": [
        {
         "name": "index",
         "rawType": "int64",
         "type": "integer"
        },
        {
         "name": "Name",
         "rawType": "object",
         "type": "string"
        },
        {
         "name": "Platform",
         "rawType": "object",
         "type": "string"
        },
        {
         "name": "Genre",
         "rawType": "object",
         "type": "string"
        },
        {
         "name": "Global_Sales",
         "rawType": "float64",
         "type": "float"
        }
       ],
       "ref": "157d6b1f-bfb3-477b-b5ed-817ac903aa49",
       "rows": [
        [
         "0",
         "Wii Sports",
         "Wii",
         "Sports",
         "82.74"
        ],
        [
         "1",
         "Super Mario Bros.",
         "NES",
         "Platform",
         "40.24"
        ],
        [
         "2",
         "Mario Kart Wii",
         "Wii",
         "Racing",
         "35.82"
        ],
        [
         "3",
         "Wii Sports Resort",
         "Wii",
         "Sports",
         "33.0"
        ],
        [
         "4",
         "Pokemon Red/Pokemon Blue",
         "GB",
         "Role-Playing",
         "31.37"
        ]
       ],
       "shape": {
        "columns": 4,
        "rows": 5
       }
      },
      "text/html": [
       "<div>\n",
       "<style scoped>\n",
       "    .dataframe tbody tr th:only-of-type {\n",
       "        vertical-align: middle;\n",
       "    }\n",
       "\n",
       "    .dataframe tbody tr th {\n",
       "        vertical-align: top;\n",
       "    }\n",
       "\n",
       "    .dataframe thead th {\n",
       "        text-align: right;\n",
       "    }\n",
       "</style>\n",
       "<table border=\"1\" class=\"dataframe\">\n",
       "  <thead>\n",
       "    <tr style=\"text-align: right;\">\n",
       "      <th></th>\n",
       "      <th>Name</th>\n",
       "      <th>Platform</th>\n",
       "      <th>Genre</th>\n",
       "      <th>Global_Sales</th>\n",
       "    </tr>\n",
       "  </thead>\n",
       "  <tbody>\n",
       "    <tr>\n",
       "      <th>0</th>\n",
       "      <td>Wii Sports</td>\n",
       "      <td>Wii</td>\n",
       "      <td>Sports</td>\n",
       "      <td>82.74</td>\n",
       "    </tr>\n",
       "    <tr>\n",
       "      <th>1</th>\n",
       "      <td>Super Mario Bros.</td>\n",
       "      <td>NES</td>\n",
       "      <td>Platform</td>\n",
       "      <td>40.24</td>\n",
       "    </tr>\n",
       "    <tr>\n",
       "      <th>2</th>\n",
       "      <td>Mario Kart Wii</td>\n",
       "      <td>Wii</td>\n",
       "      <td>Racing</td>\n",
       "      <td>35.82</td>\n",
       "    </tr>\n",
       "    <tr>\n",
       "      <th>3</th>\n",
       "      <td>Wii Sports Resort</td>\n",
       "      <td>Wii</td>\n",
       "      <td>Sports</td>\n",
       "      <td>33.00</td>\n",
       "    </tr>\n",
       "    <tr>\n",
       "      <th>4</th>\n",
       "      <td>Pokemon Red/Pokemon Blue</td>\n",
       "      <td>GB</td>\n",
       "      <td>Role-Playing</td>\n",
       "      <td>31.37</td>\n",
       "    </tr>\n",
       "  </tbody>\n",
       "</table>\n",
       "</div>"
      ],
      "text/plain": [
       "                       Name Platform         Genre  Global_Sales\n",
       "0                Wii Sports      Wii        Sports         82.74\n",
       "1         Super Mario Bros.      NES      Platform         40.24\n",
       "2            Mario Kart Wii      Wii        Racing         35.82\n",
       "3         Wii Sports Resort      Wii        Sports         33.00\n",
       "4  Pokemon Red/Pokemon Blue       GB  Role-Playing         31.37"
      ]
     },
     "execution_count": 14,
     "metadata": {},
     "output_type": "execute_result"
    }
   ],
   "source": [
    "df[df[\"Rank\"]<=5][[\"Name\",\"Platform\", \"Genre\", \"Global_Sales\"]]"
   ]
  },
  {
   "cell_type": "markdown",
   "id": "9ef677e6",
   "metadata": {
    "papermill": {
     "duration": 0.007524,
     "end_time": "2025-08-25T18:31:32.791167",
     "exception": false,
     "start_time": "2025-08-25T18:31:32.783643",
     "status": "completed"
    },
    "tags": []
   },
   "source": [
    "\n",
    "## 🎮 Level 6: Which Console Ruled the Game?  \n",
    "Every console/platform has a legacy — but which one released the **most number of games**?  \n",
    "\n",
    "Count the number of games released on each platform.  \n",
    "Create a **bar chart** to visualize it.  \n",
    "Finally, answer: **Which platform has the highest number of releases?** \n",
    "\n",
    "  \n"
   ]
  },
  {
   "cell_type": "code",
   "execution_count": 15,
   "id": "4b11a865",
   "metadata": {
    "execution": {
     "iopub.execute_input": "2025-08-25T18:31:32.881254Z",
     "iopub.status.busy": "2025-08-25T18:31:32.880830Z",
     "iopub.status.idle": "2025-08-25T18:31:32.898047Z",
     "shell.execute_reply": "2025-08-25T18:31:32.896965Z"
    },
    "papermill": {
     "duration": 0.028231,
     "end_time": "2025-08-25T18:31:32.899890",
     "exception": false,
     "start_time": "2025-08-25T18:31:32.871659",
     "status": "completed"
    },
    "tags": []
   },
   "outputs": [
    {
     "data": {
      "application/vnd.microsoft.datawrangler.viewer.v0+json": {
       "columns": [
        {
         "name": "index",
         "rawType": "int64",
         "type": "integer"
        },
        {
         "name": "Platform",
         "rawType": "object",
         "type": "string"
        },
        {
         "name": "Count",
         "rawType": "int64",
         "type": "integer"
        }
       ],
       "ref": "165ba345-e194-454e-b6a7-a3926151ca5a",
       "rows": [
        [
         "30",
         "DS",
         "2131"
        ],
        [
         "29",
         "PS2",
         "2127"
        ],
        [
         "28",
         "PS3",
         "1304"
        ],
        [
         "27",
         "Wii",
         "1290"
        ],
        [
         "26",
         "X360",
         "1234"
        ],
        [
         "25",
         "PSP",
         "1197"
        ],
        [
         "24",
         "PS",
         "1189"
        ],
        [
         "23",
         "PC",
         "938"
        ],
        [
         "22",
         "XB",
         "803"
        ],
        [
         "21",
         "GBA",
         "786"
        ],
        [
         "20",
         "GC",
         "542"
        ],
        [
         "19",
         "3DS",
         "499"
        ],
        [
         "18",
         "PSV",
         "410"
        ],
        [
         "17",
         "PS4",
         "336"
        ],
        [
         "16",
         "N64",
         "316"
        ],
        [
         "15",
         "SNES",
         "239"
        ],
        [
         "14",
         "XOne",
         "213"
        ],
        [
         "13",
         "SAT",
         "173"
        ],
        [
         "12",
         "WiiU",
         "143"
        ],
        [
         "11",
         "2600",
         "116"
        ],
        [
         "10",
         "NES",
         "98"
        ],
        [
         "9",
         "GB",
         "97"
        ],
        [
         "8",
         "DC",
         "52"
        ],
        [
         "7",
         "GEN",
         "27"
        ],
        [
         "6",
         "NG",
         "12"
        ],
        [
         "4",
         "SCD",
         "6"
        ],
        [
         "5",
         "WS",
         "6"
        ],
        [
         "3",
         "3DO",
         "3"
        ],
        [
         "2",
         "TG16",
         "2"
        ],
        [
         "1",
         "GG",
         "1"
        ],
        [
         "0",
         "PCFX",
         "1"
        ]
       ],
       "shape": {
        "columns": 2,
        "rows": 31
       }
      },
      "text/html": [
       "<div>\n",
       "<style scoped>\n",
       "    .dataframe tbody tr th:only-of-type {\n",
       "        vertical-align: middle;\n",
       "    }\n",
       "\n",
       "    .dataframe tbody tr th {\n",
       "        vertical-align: top;\n",
       "    }\n",
       "\n",
       "    .dataframe thead th {\n",
       "        text-align: right;\n",
       "    }\n",
       "</style>\n",
       "<table border=\"1\" class=\"dataframe\">\n",
       "  <thead>\n",
       "    <tr style=\"text-align: right;\">\n",
       "      <th></th>\n",
       "      <th>Platform</th>\n",
       "      <th>Count</th>\n",
       "    </tr>\n",
       "  </thead>\n",
       "  <tbody>\n",
       "    <tr>\n",
       "      <th>30</th>\n",
       "      <td>DS</td>\n",
       "      <td>2131</td>\n",
       "    </tr>\n",
       "    <tr>\n",
       "      <th>29</th>\n",
       "      <td>PS2</td>\n",
       "      <td>2127</td>\n",
       "    </tr>\n",
       "    <tr>\n",
       "      <th>28</th>\n",
       "      <td>PS3</td>\n",
       "      <td>1304</td>\n",
       "    </tr>\n",
       "    <tr>\n",
       "      <th>27</th>\n",
       "      <td>Wii</td>\n",
       "      <td>1290</td>\n",
       "    </tr>\n",
       "    <tr>\n",
       "      <th>26</th>\n",
       "      <td>X360</td>\n",
       "      <td>1234</td>\n",
       "    </tr>\n",
       "    <tr>\n",
       "      <th>25</th>\n",
       "      <td>PSP</td>\n",
       "      <td>1197</td>\n",
       "    </tr>\n",
       "    <tr>\n",
       "      <th>24</th>\n",
       "      <td>PS</td>\n",
       "      <td>1189</td>\n",
       "    </tr>\n",
       "    <tr>\n",
       "      <th>23</th>\n",
       "      <td>PC</td>\n",
       "      <td>938</td>\n",
       "    </tr>\n",
       "    <tr>\n",
       "      <th>22</th>\n",
       "      <td>XB</td>\n",
       "      <td>803</td>\n",
       "    </tr>\n",
       "    <tr>\n",
       "      <th>21</th>\n",
       "      <td>GBA</td>\n",
       "      <td>786</td>\n",
       "    </tr>\n",
       "    <tr>\n",
       "      <th>20</th>\n",
       "      <td>GC</td>\n",
       "      <td>542</td>\n",
       "    </tr>\n",
       "    <tr>\n",
       "      <th>19</th>\n",
       "      <td>3DS</td>\n",
       "      <td>499</td>\n",
       "    </tr>\n",
       "    <tr>\n",
       "      <th>18</th>\n",
       "      <td>PSV</td>\n",
       "      <td>410</td>\n",
       "    </tr>\n",
       "    <tr>\n",
       "      <th>17</th>\n",
       "      <td>PS4</td>\n",
       "      <td>336</td>\n",
       "    </tr>\n",
       "    <tr>\n",
       "      <th>16</th>\n",
       "      <td>N64</td>\n",
       "      <td>316</td>\n",
       "    </tr>\n",
       "    <tr>\n",
       "      <th>15</th>\n",
       "      <td>SNES</td>\n",
       "      <td>239</td>\n",
       "    </tr>\n",
       "    <tr>\n",
       "      <th>14</th>\n",
       "      <td>XOne</td>\n",
       "      <td>213</td>\n",
       "    </tr>\n",
       "    <tr>\n",
       "      <th>13</th>\n",
       "      <td>SAT</td>\n",
       "      <td>173</td>\n",
       "    </tr>\n",
       "    <tr>\n",
       "      <th>12</th>\n",
       "      <td>WiiU</td>\n",
       "      <td>143</td>\n",
       "    </tr>\n",
       "    <tr>\n",
       "      <th>11</th>\n",
       "      <td>2600</td>\n",
       "      <td>116</td>\n",
       "    </tr>\n",
       "    <tr>\n",
       "      <th>10</th>\n",
       "      <td>NES</td>\n",
       "      <td>98</td>\n",
       "    </tr>\n",
       "    <tr>\n",
       "      <th>9</th>\n",
       "      <td>GB</td>\n",
       "      <td>97</td>\n",
       "    </tr>\n",
       "    <tr>\n",
       "      <th>8</th>\n",
       "      <td>DC</td>\n",
       "      <td>52</td>\n",
       "    </tr>\n",
       "    <tr>\n",
       "      <th>7</th>\n",
       "      <td>GEN</td>\n",
       "      <td>27</td>\n",
       "    </tr>\n",
       "    <tr>\n",
       "      <th>6</th>\n",
       "      <td>NG</td>\n",
       "      <td>12</td>\n",
       "    </tr>\n",
       "    <tr>\n",
       "      <th>4</th>\n",
       "      <td>SCD</td>\n",
       "      <td>6</td>\n",
       "    </tr>\n",
       "    <tr>\n",
       "      <th>5</th>\n",
       "      <td>WS</td>\n",
       "      <td>6</td>\n",
       "    </tr>\n",
       "    <tr>\n",
       "      <th>3</th>\n",
       "      <td>3DO</td>\n",
       "      <td>3</td>\n",
       "    </tr>\n",
       "    <tr>\n",
       "      <th>2</th>\n",
       "      <td>TG16</td>\n",
       "      <td>2</td>\n",
       "    </tr>\n",
       "    <tr>\n",
       "      <th>1</th>\n",
       "      <td>GG</td>\n",
       "      <td>1</td>\n",
       "    </tr>\n",
       "    <tr>\n",
       "      <th>0</th>\n",
       "      <td>PCFX</td>\n",
       "      <td>1</td>\n",
       "    </tr>\n",
       "  </tbody>\n",
       "</table>\n",
       "</div>"
      ],
      "text/plain": [
       "   Platform  Count\n",
       "30       DS   2131\n",
       "29      PS2   2127\n",
       "28      PS3   1304\n",
       "27      Wii   1290\n",
       "26     X360   1234\n",
       "25      PSP   1197\n",
       "24       PS   1189\n",
       "23       PC    938\n",
       "22       XB    803\n",
       "21      GBA    786\n",
       "20       GC    542\n",
       "19      3DS    499\n",
       "18      PSV    410\n",
       "17      PS4    336\n",
       "16      N64    316\n",
       "15     SNES    239\n",
       "14     XOne    213\n",
       "13      SAT    173\n",
       "12     WiiU    143\n",
       "11     2600    116\n",
       "10      NES     98\n",
       "9        GB     97\n",
       "8        DC     52\n",
       "7       GEN     27\n",
       "6        NG     12\n",
       "4       SCD      6\n",
       "5        WS      6\n",
       "3       3DO      3\n",
       "2      TG16      2\n",
       "1        GG      1\n",
       "0      PCFX      1"
      ]
     },
     "execution_count": 15,
     "metadata": {},
     "output_type": "execute_result"
    }
   ],
   "source": [
    "game_count = df.groupby(\"Platform\")[\"Name\"].count().sort_values().reset_index().rename(columns={\"Name\":\"Count\"})\n",
    "game_count.sort_values(\"Count\", ascending=False)"
   ]
  },
  {
   "cell_type": "code",
   "execution_count": 16,
   "id": "b15b1df7",
   "metadata": {
    "execution": {
     "iopub.execute_input": "2025-08-25T18:31:32.917669Z",
     "iopub.status.busy": "2025-08-25T18:31:32.917335Z",
     "iopub.status.idle": "2025-08-25T18:31:33.400999Z",
     "shell.execute_reply": "2025-08-25T18:31:33.400086Z"
    },
    "papermill": {
     "duration": 0.494551,
     "end_time": "2025-08-25T18:31:33.402837",
     "exception": false,
     "start_time": "2025-08-25T18:31:32.908286",
     "status": "completed"
    },
    "tags": []
   },
   "outputs": [
    {
     "data": {
      "image/png": "[encoded data removed]",
      "text/plain": [
       "<Figure size 640x480 with 1 Axes>"
      ]
     },
     "metadata": {},
     "output_type": "display_data"
    }
   ],
   "source": [
    "plt.figure()\n",
    "plt.bar(game_count['Platform'],game_count['Count'])\n",
    "plt.title(\"Distribution of Games by Platforms\")\n",
    "plt.ylabel(\"Count [Million]\")\n",
    "plt.xlabel(\"Platform\")\n",
    "plt.xticks(rotation=60, ha='right') \n",
    "plt.show()"
   ]
  },
  {
   "cell_type": "code",
   "execution_count": 17,
   "id": "c2c9e4db",
   "metadata": {
    "execution": {
     "iopub.execute_input": "2025-08-25T18:31:33.428154Z",
     "iopub.status.busy": "2025-08-25T18:31:33.427805Z",
     "iopub.status.idle": "2025-08-25T18:31:33.433806Z",
     "shell.execute_reply": "2025-08-25T18:31:33.432494Z"
    },
    "papermill": {
     "duration": 0.019013,
     "end_time": "2025-08-25T18:31:33.435531",
     "exception": false,
     "start_time": "2025-08-25T18:31:33.416518",
     "status": "completed"
    },
    "tags": []
   },
   "outputs": [
    {
     "name": "stdout",
     "output_type": "stream",
     "text": [
      "Top Platform (By Game Releases): DS \n",
      "Game Count: 2131\n"
     ]
    }
   ],
   "source": [
    "print(f\"Top Platform (By Game Releases): {game_count.iloc[-1,0]} \\nGame Count: {game_count.iloc[-1,1]}\")"
   ]
  },
  {
   "cell_type": "markdown",
   "id": "c5301c7c",
   "metadata": {
    "papermill": {
     "duration": 0.009161,
     "end_time": "2025-08-25T18:31:33.454472",
     "exception": false,
     "start_time": "2025-08-25T18:31:33.445311",
     "status": "completed"
    },
    "tags": []
   },
   "source": [
    "\n",
    "## 🏢 Level 7: The Big Bosses (Top Publishers)  \n",
    "Some publishers dominate the industry like final bosses \n",
    "\n",
    "Your task:  \n",
    "- Find the **Top 5 publishers** with the highest **total Global Sales**.  \n",
    "- Show their contribution using a **pie chart** \n",
    "\n",
    "This will help us see who really controlled the gaming world  \n"
   ]
  },
  {
   "cell_type": "code",
   "execution_count": 18,
   "id": "7013e6d5",
   "metadata": {
    "execution": {
     "iopub.execute_input": "2025-08-25T18:31:33.475620Z",
     "iopub.status.busy": "2025-08-25T18:31:33.474866Z",
     "iopub.status.idle": "2025-08-25T18:31:33.489113Z",
     "shell.execute_reply": "2025-08-25T18:31:33.488068Z"
    },
    "papermill": {
     "duration": 0.027168,
     "end_time": "2025-08-25T18:31:33.490946",
     "exception": false,
     "start_time": "2025-08-25T18:31:33.463778",
     "status": "completed"
    },
    "tags": []
   },
   "outputs": [
    {
     "data": {
      "application/vnd.microsoft.datawrangler.viewer.v0+json": {
       "columns": [
        {
         "name": "index",
         "rawType": "int64",
         "type": "integer"
        },
        {
         "name": "Publisher",
         "rawType": "object",
         "type": "string"
        },
        {
         "name": "Global_Sales",
         "rawType": "float64",
         "type": "float"
        }
       ],
       "ref": "15d85124-3c59-45f8-9a22-7aab89d631e0",
       "rows": [
        [
         "0",
         "Nintendo",
         "1784.43"
        ],
        [
         "1",
         "Electronic Arts",
         "1093.39"
        ],
        [
         "2",
         "Activision",
         "721.41"
        ],
        [
         "3",
         "Sony Computer Entertainment",
         "607.28"
        ],
        [
         "4",
         "Ubisoft",
         "473.54"
        ]
       ],
       "shape": {
        "columns": 2,
        "rows": 5
       }
      },
      "text/html": [
       "<div>\n",
       "<style scoped>\n",
       "    .dataframe tbody tr th:only-of-type {\n",
       "        vertical-align: middle;\n",
       "    }\n",
       "\n",
       "    .dataframe tbody tr th {\n",
       "        vertical-align: top;\n",
       "    }\n",
       "\n",
       "    .dataframe thead th {\n",
       "        text-align: right;\n",
       "    }\n",
       "</style>\n",
       "<table border=\"1\" class=\"dataframe\">\n",
       "  <thead>\n",
       "    <tr style=\"text-align: right;\">\n",
       "      <th></th>\n",
       "      <th>Publisher</th>\n",
       "      <th>Global_Sales</th>\n",
       "    </tr>\n",
       "  </thead>\n",
       "  <tbody>\n",
       "    <tr>\n",
       "      <th>0</th>\n",
       "      <td>Nintendo</td>\n",
       "      <td>1784.43</td>\n",
       "    </tr>\n",
       "    <tr>\n",
       "      <th>1</th>\n",
       "      <td>Electronic Arts</td>\n",
       "      <td>1093.39</td>\n",
       "    </tr>\n",
       "    <tr>\n",
       "      <th>2</th>\n",
       "      <td>Activision</td>\n",
       "      <td>721.41</td>\n",
       "    </tr>\n",
       "    <tr>\n",
       "      <th>3</th>\n",
       "      <td>Sony Computer Entertainment</td>\n",
       "      <td>607.28</td>\n",
       "    </tr>\n",
       "    <tr>\n",
       "      <th>4</th>\n",
       "      <td>Ubisoft</td>\n",
       "      <td>473.54</td>\n",
       "    </tr>\n",
       "  </tbody>\n",
       "</table>\n",
       "</div>"
      ],
      "text/plain": [
       "                     Publisher  Global_Sales\n",
       "0                     Nintendo       1784.43\n",
       "1              Electronic Arts       1093.39\n",
       "2                   Activision        721.41\n",
       "3  Sony Computer Entertainment        607.28\n",
       "4                      Ubisoft        473.54"
      ]
     },
     "execution_count": 18,
     "metadata": {},
     "output_type": "execute_result"
    }
   ],
   "source": [
    "top_publisher = df.groupby(\"Publisher\")[\"Global_Sales\"].sum().sort_values(ascending=False).reset_index()\n",
    "top_publisher.head(5)"
   ]
  },
  {
   "cell_type": "code",
   "execution_count": 19,
   "id": "8411232b",
   "metadata": {
    "execution": {
     "iopub.execute_input": "2025-08-25T18:31:33.511707Z",
     "iopub.status.busy": "2025-08-25T18:31:33.511414Z",
     "iopub.status.idle": "2025-08-25T18:31:33.520143Z",
     "shell.execute_reply": "2025-08-25T18:31:33.519321Z"
    },
    "papermill": {
     "duration": 0.020421,
     "end_time": "2025-08-25T18:31:33.521690",
     "exception": false,
     "start_time": "2025-08-25T18:31:33.501269",
     "status": "completed"
    },
    "tags": []
   },
   "outputs": [
    {
     "data": {
      "application/vnd.microsoft.datawrangler.viewer.v0+json": {
       "columns": [
        {
         "name": "index",
         "rawType": "int64",
         "type": "integer"
        },
        {
         "name": "Publisher",
         "rawType": "object",
         "type": "string"
        },
        {
         "name": "Global_Sales",
         "rawType": "float64",
         "type": "float"
        }
       ],
       "ref": "3a2b37a1-8048-466d-b482-949c43f77c43",
       "rows": [
        [
         "0",
         "Nintendo",
         "1784.43"
        ],
        [
         "1",
         "Electronic Arts",
         "1093.39"
        ],
        [
         "2",
         "Activision",
         "721.41"
        ],
        [
         "3",
         "Sony Computer Entertainment",
         "607.28"
        ],
        [
         "4",
         "Ubisoft",
         "473.54"
        ]
       ],
       "shape": {
        "columns": 2,
        "rows": 5
       }
      },
      "text/html": [
       "<div>\n",
       "<style scoped>\n",
       "    .dataframe tbody tr th:only-of-type {\n",
       "        vertical-align: middle;\n",
       "    }\n",
       "\n",
       "    .dataframe tbody tr th {\n",
       "        vertical-align: top;\n",
       "    }\n",
       "\n",
       "    .dataframe thead th {\n",
       "        text-align: right;\n",
       "    }\n",
       "</style>\n",
       "<table border=\"1\" class=\"dataframe\">\n",
       "  <thead>\n",
       "    <tr style=\"text-align: right;\">\n",
       "      <th></th>\n",
       "      <th>Publisher</th>\n",
       "      <th>Global_Sales</th>\n",
       "    </tr>\n",
       "  </thead>\n",
       "  <tbody>\n",
       "    <tr>\n",
       "      <th>0</th>\n",
       "      <td>Nintendo</td>\n",
       "      <td>1784.43</td>\n",
       "    </tr>\n",
       "    <tr>\n",
       "      <th>1</th>\n",
       "      <td>Electronic Arts</td>\n",
       "      <td>1093.39</td>\n",
       "    </tr>\n",
       "    <tr>\n",
       "      <th>2</th>\n",
       "      <td>Activision</td>\n",
       "      <td>721.41</td>\n",
       "    </tr>\n",
       "    <tr>\n",
       "      <th>3</th>\n",
       "      <td>Sony Computer Entertainment</td>\n",
       "      <td>607.28</td>\n",
       "    </tr>\n",
       "    <tr>\n",
       "      <th>4</th>\n",
       "      <td>Ubisoft</td>\n",
       "      <td>473.54</td>\n",
       "    </tr>\n",
       "  </tbody>\n",
       "</table>\n",
       "</div>"
      ],
      "text/plain": [
       "                     Publisher  Global_Sales\n",
       "0                     Nintendo       1784.43\n",
       "1              Electronic Arts       1093.39\n",
       "2                   Activision        721.41\n",
       "3  Sony Computer Entertainment        607.28\n",
       "4                      Ubisoft        473.54"
      ]
     },
     "execution_count": 19,
     "metadata": {},
     "output_type": "execute_result"
    }
   ],
   "source": [
    "top_5_publisher = top_publisher.head(5)\n",
    "top_5_publisher"
   ]
  },
  {
   "cell_type": "code",
   "execution_count": null,
   "id": "643fb447",
   "metadata": {
    "execution": {
     "iopub.execute_input": "2025-08-25T18:31:33.543136Z",
     "iopub.status.busy": "2025-08-25T18:31:33.542760Z",
     "iopub.status.idle": "2025-08-25T18:31:33.691173Z",
     "shell.execute_reply": "2025-08-25T18:31:33.690078Z"
    },
    "papermill": {
     "duration": 0.161356,
     "end_time": "2025-08-25T18:31:33.693201",
     "exception": false,
     "start_time": "2025-08-25T18:31:33.531845",
     "status": "completed"
    },
    "tags": []
   },
   "outputs": [
    {
     "data": {
      "image/png": "[encoded data removed]",
      "text/plain": [
       "<Figure size 640x480 with 1 Axes>"
      ]
     },
     "metadata": {},
     "output_type": "display_data"
    }
   ],
   "source": [
    "plt.figure()\n",
    "plt.pie(top_5_publisher[\"Global_Sales\"], labels=top_5_publisher[\"Publisher\"], autopct=\"%1.1f%%\", startangle=90, counterclock=False) # type: ignore\n",
    "plt.axis(\"equal\")\n",
    "plt.title(\"Top 5 Publishers Sales Share\")\n",
    "plt.show()"
   ]
  },
  {
   "cell_type": "markdown",
   "id": "237b6526",
   "metadata": {
    "papermill": {
     "duration": 0.011667,
     "end_time": "2025-08-25T18:31:33.716022",
     "exception": false,
     "start_time": "2025-08-25T18:31:33.704355",
     "status": "completed"
    },
    "tags": []
   },
   "source": [
    "\n",
    "## 🌍 Level 8: Genre Champions in Europe  \n",
    "Different genres have their own kings in different regions.  \n",
    "Let’s focus on **Europe (EU Sales)** for now.  \n",
    "\n",
    "Your task:  \n",
    "- For **each Genre**, find the **Publisher** that has the highest **total EU Sales**.  \n",
    "- Print the results as a list (Genre → Top Publisher).  \n",
    "\n",
    "Think of this as awarding the **regional championship belts**  \n",
    "\n"
   ]
  },
  {
   "cell_type": "code",
   "execution_count": 21,
   "id": "3387e0b9",
   "metadata": {
    "execution": {
     "iopub.execute_input": "2025-08-25T18:31:33.740664Z",
     "iopub.status.busy": "2025-08-25T18:31:33.739947Z",
     "iopub.status.idle": "2025-08-25T18:31:33.758956Z",
     "shell.execute_reply": "2025-08-25T18:31:33.757861Z"
    },
    "papermill": {
     "duration": 0.033062,
     "end_time": "2025-08-25T18:31:33.760659",
     "exception": false,
     "start_time": "2025-08-25T18:31:33.727597",
     "status": "completed"
    },
    "tags": []
   },
   "outputs": [
    {
     "data": {
      "application/vnd.microsoft.datawrangler.viewer.v0+json": {
       "columns": [
        {
         "name": "Genre",
         "rawType": "object",
         "type": "string"
        },
        {
         "name": "Publisher",
         "rawType": "object",
         "type": "string"
        },
        {
         "name": "EU_Sales",
         "rawType": "float64",
         "type": "float"
        }
       ],
       "ref": "7298120e-c8e1-4fc8-958a-c2e87738edc0",
       "rows": [
        [
         "Sports",
         "Nintendo",
         "29.02"
        ],
        [
         "Racing",
         "Nintendo",
         "12.88"
        ],
        [
         "Simulation",
         "Nintendo",
         "11.0"
        ],
        [
         "Action",
         "Take-Two Interactive",
         "9.27"
        ],
        [
         "Misc",
         "Nintendo",
         "9.26"
        ],
        [
         "Platform",
         "Nintendo",
         "9.23"
        ],
        [
         "Role-Playing",
         "Nintendo",
         "8.89"
        ],
        [
         "Shooter",
         "Activision",
         "5.88"
        ],
        [
         "Puzzle",
         "Nintendo",
         "5.36"
        ],
        [
         "Adventure",
         "Red Orb",
         "2.79"
        ],
        [
         "Fighting",
         "Nintendo",
         "2.61"
        ],
        [
         "Strategy",
         "Activision",
         "2.27"
        ]
       ],
       "shape": {
        "columns": 2,
        "rows": 12
       }
      },
      "text/html": [
       "<div>\n",
       "<style scoped>\n",
       "    .dataframe tbody tr th:only-of-type {\n",
       "        vertical-align: middle;\n",
       "    }\n",
       "\n",
       "    .dataframe tbody tr th {\n",
       "        vertical-align: top;\n",
       "    }\n",
       "\n",
       "    .dataframe thead th {\n",
       "        text-align: right;\n",
       "    }\n",
       "</style>\n",
       "<table border=\"1\" class=\"dataframe\">\n",
       "  <thead>\n",
       "    <tr style=\"text-align: right;\">\n",
       "      <th></th>\n",
       "      <th>Publisher</th>\n",
       "      <th>EU_Sales</th>\n",
       "    </tr>\n",
       "    <tr>\n",
       "      <th>Genre</th>\n",
       "      <th></th>\n",
       "      <th></th>\n",
       "    </tr>\n",
       "  </thead>\n",
       "  <tbody>\n",
       "    <tr>\n",
       "      <th>Sports</th>\n",
       "      <td>Nintendo</td>\n",
       "      <td>29.02</td>\n",
       "    </tr>\n",
       "    <tr>\n",
       "      <th>Racing</th>\n",
       "      <td>Nintendo</td>\n",
       "      <td>12.88</td>\n",
       "    </tr>\n",
       "    <tr>\n",
       "      <th>Simulation</th>\n",
       "      <td>Nintendo</td>\n",
       "      <td>11.00</td>\n",
       "    </tr>\n",
       "    <tr>\n",
       "      <th>Action</th>\n",
       "      <td>Take-Two Interactive</td>\n",
       "      <td>9.27</td>\n",
       "    </tr>\n",
       "    <tr>\n",
       "      <th>Misc</th>\n",
       "      <td>Nintendo</td>\n",
       "      <td>9.26</td>\n",
       "    </tr>\n",
       "    <tr>\n",
       "      <th>Platform</th>\n",
       "      <td>Nintendo</td>\n",
       "      <td>9.23</td>\n",
       "    </tr>\n",
       "    <tr>\n",
       "      <th>Role-Playing</th>\n",
       "      <td>Nintendo</td>\n",
       "      <td>8.89</td>\n",
       "    </tr>\n",
       "    <tr>\n",
       "      <th>Shooter</th>\n",
       "      <td>Activision</td>\n",
       "      <td>5.88</td>\n",
       "    </tr>\n",
       "    <tr>\n",
       "      <th>Puzzle</th>\n",
       "      <td>Nintendo</td>\n",
       "      <td>5.36</td>\n",
       "    </tr>\n",
       "    <tr>\n",
       "      <th>Adventure</th>\n",
       "      <td>Red Orb</td>\n",
       "      <td>2.79</td>\n",
       "    </tr>\n",
       "    <tr>\n",
       "      <th>Fighting</th>\n",
       "      <td>Nintendo</td>\n",
       "      <td>2.61</td>\n",
       "    </tr>\n",
       "    <tr>\n",
       "      <th>Strategy</th>\n",
       "      <td>Activision</td>\n",
       "      <td>2.27</td>\n",
       "    </tr>\n",
       "  </tbody>\n",
       "</table>\n",
       "</div>"
      ],
      "text/plain": [
       "                         Publisher  EU_Sales\n",
       "Genre                                       \n",
       "Sports                    Nintendo     29.02\n",
       "Racing                    Nintendo     12.88\n",
       "Simulation                Nintendo     11.00\n",
       "Action        Take-Two Interactive      9.27\n",
       "Misc                      Nintendo      9.26\n",
       "Platform                  Nintendo      9.23\n",
       "Role-Playing              Nintendo      8.89\n",
       "Shooter                 Activision      5.88\n",
       "Puzzle                    Nintendo      5.36\n",
       "Adventure                  Red Orb      2.79\n",
       "Fighting                  Nintendo      2.61\n",
       "Strategy                Activision      2.27"
      ]
     },
     "execution_count": 21,
     "metadata": {},
     "output_type": "execute_result"
    }
   ],
   "source": [
    "df[[\"Genre\",\"Publisher\",\"EU_Sales\"]].sort_values(\"EU_Sales\", ascending = False).groupby(\"Genre\", group_keys=False).head(1).set_index(\"Genre\")"
   ]
  },
  {
   "cell_type": "markdown",
   "id": "639b6863",
   "metadata": {
    "papermill": {
     "duration": 0.0114,
     "end_time": "2025-08-25T18:31:33.784040",
     "exception": false,
     "start_time": "2025-08-25T18:31:33.772640",
     "status": "completed"
    },
    "tags": []
   },
   "source": [
    "\n",
    "## 🎯 Level 9: Nintendo’s Golden Year  \n",
    "Nintendo is one of the biggest names in gaming 🎮  \n",
    "But… which year did Nintendo achieve its **highest total Global Sales**?  \n",
    "\n",
    "Your task:  \n",
    "- Filter the dataset for **Publisher = Nintendo**.  \n",
    "- Group sales by year.  \n",
    "- Find the year with the **highest global sales**.  \n",
    "\n",
    "This is like uncovering the **peak of Nintendo’s power**   \n",
    "\n"
   ]
  },
  {
   "cell_type": "code",
   "execution_count": 22,
   "id": "188f9e6d",
   "metadata": {
    "execution": {
     "iopub.execute_input": "2025-08-25T18:31:33.809252Z",
     "iopub.status.busy": "2025-08-25T18:31:33.808262Z",
     "iopub.status.idle": "2025-08-25T18:31:33.816086Z",
     "shell.execute_reply": "2025-08-25T18:31:33.814962Z"
    },
    "papermill": {
     "duration": 0.022073,
     "end_time": "2025-08-25T18:31:33.817799",
     "exception": false,
     "start_time": "2025-08-25T18:31:33.795726",
     "status": "completed"
    },
    "tags": []
   },
   "outputs": [],
   "source": [
    "Nintendo_df = df[df[\"Publisher\"].eq(\"Nintendo\")]"
   ]
  },
  {
   "cell_type": "code",
   "execution_count": 23,
   "id": "41cacf4a",
   "metadata": {
    "execution": {
     "iopub.execute_input": "2025-08-25T18:31:33.845148Z",
     "iopub.status.busy": "2025-08-25T18:31:33.843892Z",
     "iopub.status.idle": "2025-08-25T18:31:33.854025Z",
     "shell.execute_reply": "2025-08-25T18:31:33.853229Z"
    },
    "papermill": {
     "duration": 0.025548,
     "end_time": "2025-08-25T18:31:33.855694",
     "exception": false,
     "start_time": "2025-08-25T18:31:33.830146",
     "status": "completed"
    },
    "tags": []
   },
   "outputs": [
    {
     "data": {
      "application/vnd.microsoft.datawrangler.viewer.v0+json": {
       "columns": [
        {
         "name": "index",
         "rawType": "object",
         "type": "string"
        },
        {
         "name": "23",
         "rawType": "float64",
         "type": "float"
        }
       ],
       "ref": "908c9ac4-d623-4931-b890-fc79977e22ab",
       "rows": [
        [
         "Year",
         "2006.0"
        ],
        [
         "Global_Sales",
         "205.60999999999999"
        ]
       ],
       "shape": {
        "columns": 1,
        "rows": 2
       }
      },
      "text/plain": [
       "Year            2006.00\n",
       "Global_Sales     205.61\n",
       "Name: 23, dtype: float64"
      ]
     },
     "execution_count": 23,
     "metadata": {},
     "output_type": "execute_result"
    }
   ],
   "source": [
    "Nintendo_df.groupby(\"Year\")[\"Global_Sales\"].sum().reset_index().sort_values(\"Global_Sales\",ascending=False).iloc[0]"
   ]
  },
  {
   "cell_type": "markdown",
   "id": "5aa3c22c",
   "metadata": {
    "papermill": {
     "duration": 0.011233,
     "end_time": "2025-08-25T18:31:33.878839",
     "exception": false,
     "start_time": "2025-08-25T18:31:33.867606",
     "status": "completed"
    },
    "tags": []
   },
   "source": [
    "\n",
    "## 🏟️ Final Boss Arena: The Data Playground  \n",
    "\n",
    "You’ve fought through all the levels ⚔️, now it’s time to explore on your own 🎉  \n",
    "\n",
    "Your final mission:  \n",
    "- Choose **any 2–3 plots** (your choice!) that show **interesting patterns** in the data.   \n",
    "\n",
    "💡 This is your **creative zone** → Think of it as building your own “story” from the dataset.  \n",
    "\n",
    "When you’re done, share your best plot with the team — let’s see who finds the coolest insight!  \n",
    "\n"
   ]
  },
  {
   "cell_type": "code",
   "execution_count": 24,
   "id": "f5d30258",
   "metadata": {
    "execution": {
     "iopub.execute_input": "2025-08-25T18:31:33.903356Z",
     "iopub.status.busy": "2025-08-25T18:31:33.903064Z",
     "iopub.status.idle": "2025-08-25T18:31:33.913278Z",
     "shell.execute_reply": "2025-08-25T18:31:33.912276Z"
    },
    "papermill": {
     "duration": 0.024743,
     "end_time": "2025-08-25T18:31:33.915244",
     "exception": false,
     "start_time": "2025-08-25T18:31:33.890501",
     "status": "completed"
    },
    "tags": []
   },
   "outputs": [],
   "source": [
    "Yearly_sales = df.groupby(\"Year\")[\"Global_Sales\"].sum().reset_index()\n",
    "Yearly_Games = df.groupby(\"Year\")[\"Name\"].count().reset_index()"
   ]
  },
  {
   "cell_type": "code",
   "execution_count": 35,
   "id": "70d245c7",
   "metadata": {
    "execution": {
     "iopub.execute_input": "2025-08-25T18:31:33.939085Z",
     "iopub.status.busy": "2025-08-25T18:31:33.938690Z",
     "iopub.status.idle": "2025-08-25T18:31:34.394836Z",
     "shell.execute_reply": "2025-08-25T18:31:34.393858Z"
    },
    "papermill": {
     "duration": 0.470008,
     "end_time": "2025-08-25T18:31:34.396582",
     "exception": false,
     "start_time": "2025-08-25T18:31:33.926574",
     "status": "completed"
    },
    "tags": []
   },
   "outputs": [
    {
     "data": {
      "image/png": "[encoded data removed]",
      "text/plain": [
       "<Figure size 640x480 with 1 Axes>"
      ]
     },
     "metadata": {},
     "output_type": "display_data"
    },
    {
     "data": {
      "image/png": "[encoded data removed]",
      "text/plain": [
       "<Figure size 640x480 with 1 Axes>"
      ]
     },
     "metadata": {},
     "output_type": "display_data"
    }
   ],
   "source": [
    "plt.figure()\n",
    "plt.bar(Yearly_sales[\"Year\"],Yearly_sales[\"Global_Sales\"])\n",
    "plt.title(\"Yearly Sales\")\n",
    "plt.xlabel(\"Year\")\n",
    "plt.ylabel(\"Sales (Millions)\")\n",
    "plt.figure()\n",
    "plt.bar(Yearly_Games[\"Year\"],Yearly_Games[\"Name\"])\n",
    "plt.title(\"Yearly Game Releases\")\n",
    "plt.xlabel(\"Year\")\n",
    "plt.ylabel(\"Game Count\")\n",
    "plt.show()"
   ]
  },
  {
   "cell_type": "markdown",
   "id": "84dc9ee4",
   "metadata": {
    "papermill": {
     "duration": 0.012365,
     "end_time": "2025-08-25T18:31:34.421900",
     "exception": false,
     "start_time": "2025-08-25T18:31:34.409535",
     "status": "completed"
    },
    "tags": []
   },
   "source": [
    "This shows that Global Sales as well as the count of Games released were on a steady rise from 1980s to 2009 after which they have consistently been in a decline \\nAlso the data after 2016 doesn't seem to be accurate since the fall is too steep which is why its correctness may need to be checked for"
   ]
  },
  {
   "cell_type": "code",
   "execution_count": 26,
   "id": "e202a82a",
   "metadata": {
    "execution": {
     "iopub.execute_input": "2025-08-25T18:31:34.447690Z",
     "iopub.status.busy": "2025-08-25T18:31:34.447304Z",
     "iopub.status.idle": "2025-08-25T18:31:34.457946Z",
     "shell.execute_reply": "2025-08-25T18:31:34.456556Z"
    },
    "papermill": {
     "duration": 0.025549,
     "end_time": "2025-08-25T18:31:34.459614",
     "exception": false,
     "start_time": "2025-08-25T18:31:34.434065",
     "status": "completed"
    },
    "tags": []
   },
   "outputs": [
    {
     "data": {
      "application/vnd.microsoft.datawrangler.viewer.v0+json": {
       "columns": [
        {
         "name": "index",
         "rawType": "int64",
         "type": "integer"
        },
        {
         "name": "Year",
         "rawType": "int64",
         "type": "integer"
        },
        {
         "name": "Name",
         "rawType": "int64",
         "type": "integer"
        }
       ],
       "ref": "cf9df3e2-20bc-4f29-8744-779d4846444b",
       "rows": [
        [
         "36",
         "2016",
         "342"
        ],
        [
         "37",
         "2017",
         "3"
        ],
        [
         "38",
         "2020",
         "1"
        ]
       ],
       "shape": {
        "columns": 2,
        "rows": 3
       }
      },
      "text/html": [
       "<div>\n",
       "<style scoped>\n",
       "    .dataframe tbody tr th:only-of-type {\n",
       "        vertical-align: middle;\n",
       "    }\n",
       "\n",
       "    .dataframe tbody tr th {\n",
       "        vertical-align: top;\n",
       "    }\n",
       "\n",
       "    .dataframe thead th {\n",
       "        text-align: right;\n",
       "    }\n",
       "</style>\n",
       "<table border=\"1\" class=\"dataframe\">\n",
       "  <thead>\n",
       "    <tr style=\"text-align: right;\">\n",
       "      <th></th>\n",
       "      <th>Year</th>\n",
       "      <th>Name</th>\n",
       "    </tr>\n",
       "  </thead>\n",
       "  <tbody>\n",
       "    <tr>\n",
       "      <th>36</th>\n",
       "      <td>2016</td>\n",
       "      <td>342</td>\n",
       "    </tr>\n",
       "    <tr>\n",
       "      <th>37</th>\n",
       "      <td>2017</td>\n",
       "      <td>3</td>\n",
       "    </tr>\n",
       "    <tr>\n",
       "      <th>38</th>\n",
       "      <td>2020</td>\n",
       "      <td>1</td>\n",
       "    </tr>\n",
       "  </tbody>\n",
       "</table>\n",
       "</div>"
      ],
      "text/plain": [
       "    Year  Name\n",
       "36  2016   342\n",
       "37  2017     3\n",
       "38  2020     1"
      ]
     },
     "execution_count": 26,
     "metadata": {},
     "output_type": "execute_result"
    }
   ],
   "source": [
    "Yearly_Games[Yearly_Games[\"Year\"]>=2016]"
   ]
  },
  {
   "cell_type": "code",
   "execution_count": 27,
   "id": "10b4a5e1",
   "metadata": {
    "execution": {
     "iopub.execute_input": "2025-08-25T18:31:34.485271Z",
     "iopub.status.busy": "2025-08-25T18:31:34.484879Z",
     "iopub.status.idle": "2025-08-25T18:31:34.494925Z",
     "shell.execute_reply": "2025-08-25T18:31:34.493930Z"
    },
    "papermill": {
     "duration": 0.024611,
     "end_time": "2025-08-25T18:31:34.496458",
     "exception": false,
     "start_time": "2025-08-25T18:31:34.471847",
     "status": "completed"
    },
    "tags": []
   },
   "outputs": [
    {
     "data": {
      "application/vnd.microsoft.datawrangler.viewer.v0+json": {
       "columns": [
        {
         "name": "index",
         "rawType": "int64",
         "type": "integer"
        },
        {
         "name": "Year",
         "rawType": "int64",
         "type": "integer"
        },
        {
         "name": "Global_Sales",
         "rawType": "float64",
         "type": "float"
        }
       ],
       "ref": "5bf10e35-4338-409b-845b-c0bfd46685a9",
       "rows": [
        [
         "36",
         "2016",
         "70.9"
        ],
        [
         "37",
         "2017",
         "0.05"
        ],
        [
         "38",
         "2020",
         "0.29"
        ]
       ],
       "shape": {
        "columns": 2,
        "rows": 3
       }
      },
      "text/html": [
       "<div>\n",
       "<style scoped>\n",
       "    .dataframe tbody tr th:only-of-type {\n",
       "        vertical-align: middle;\n",
       "    }\n",
       "\n",
       "    .dataframe tbody tr th {\n",
       "        vertical-align: top;\n",
       "    }\n",
       "\n",
       "    .dataframe thead th {\n",
       "        text-align: right;\n",
       "    }\n",
       "</style>\n",
       "<table border=\"1\" class=\"dataframe\">\n",
       "  <thead>\n",
       "    <tr style=\"text-align: right;\">\n",
       "      <th></th>\n",
       "      <th>Year</th>\n",
       "      <th>Global_Sales</th>\n",
       "    </tr>\n",
       "  </thead>\n",
       "  <tbody>\n",
       "    <tr>\n",
       "      <th>36</th>\n",
       "      <td>2016</td>\n",
       "      <td>70.90</td>\n",
       "    </tr>\n",
       "    <tr>\n",
       "      <th>37</th>\n",
       "      <td>2017</td>\n",
       "      <td>0.05</td>\n",
       "    </tr>\n",
       "    <tr>\n",
       "      <th>38</th>\n",
       "      <td>2020</td>\n",
       "      <td>0.29</td>\n",
       "    </tr>\n",
       "  </tbody>\n",
       "</table>\n",
       "</div>"
      ],
      "text/plain": [
       "    Year  Global_Sales\n",
       "36  2016         70.90\n",
       "37  2017          0.05\n",
       "38  2020          0.29"
      ]
     },
     "execution_count": 27,
     "metadata": {},
     "output_type": "execute_result"
    }
   ],
   "source": [
    "Yearly_sales[Yearly_sales[\"Year\"]>=2016]"
   ]
  },
  {
   "cell_type": "code",
   "execution_count": 28,
   "id": "1c6f14a7",
   "metadata": {
    "execution": {
     "iopub.execute_input": "2025-08-25T18:31:34.524255Z",
     "iopub.status.busy": "2025-08-25T18:31:34.523905Z",
     "iopub.status.idle": "2025-08-25T18:31:34.531068Z",
     "shell.execute_reply": "2025-08-25T18:31:34.530093Z"
    },
    "papermill": {
     "duration": 0.023352,
     "end_time": "2025-08-25T18:31:34.532661",
     "exception": false,
     "start_time": "2025-08-25T18:31:34.509309",
     "status": "completed"
    },
    "tags": []
   },
   "outputs": [],
   "source": [
    "df_1 = Yearly_sales.copy()\n",
    "df_1[\"Ratio\"] = Yearly_sales[\"Global_Sales\"]/Yearly_Games[\"Name\"]\n",
    "df_1 = df_1[[\"Year\",\"Ratio\"]]"
   ]
  },
  {
   "cell_type": "code",
   "execution_count": 51,
   "id": "f341f1db",
   "metadata": {
    "execution": {
     "iopub.execute_input": "2025-08-25T18:31:34.560359Z",
     "iopub.status.busy": "2025-08-25T18:31:34.559965Z",
     "iopub.status.idle": "2025-08-25T18:31:34.738180Z",
     "shell.execute_reply": "2025-08-25T18:31:34.737104Z"
    },
    "papermill": {
     "duration": 0.194251,
     "end_time": "2025-08-25T18:31:34.740298",
     "exception": false,
     "start_time": "2025-08-25T18:31:34.546047",
     "status": "completed"
    },
    "tags": []
   },
   "outputs": [
    {
     "data": {
      "image/png": "[encoded data removed]",
      "text/plain": [
       "<Figure size 640x480 with 1 Axes>"
      ]
     },
     "metadata": {},
     "output_type": "display_data"
    }
   ],
   "source": [
    "plt.figure()\n",
    "plt.plot(df_1[\"Year\"],df_1[\"Ratio\"])\n",
    "plt.xlabel(\"Year\")\n",
    "plt.ylabel(\"Sales-to-Games Ratio\")\n",
    "plt.title(\"Sales to Game Releases Ratio\")\n",
    "plt.show()"
   ]
  },
  {
   "cell_type": "markdown",
   "id": "ee8e1114",
   "metadata": {
    "papermill": {
     "duration": 0.013526,
     "end_time": "2025-08-25T18:31:34.768907",
     "exception": false,
     "start_time": "2025-08-25T18:31:34.755381",
     "status": "completed"
    },
    "tags": []
   },
   "source": [
    "This Chart shows that the ratio of Sales to Releases of Games was very volatile between 1980s - 1995s however after that it was slowly getting smaller from 1 hence showing that the sales of games was going down per game released "
   ]
  },
  {
   "cell_type": "code",
   "execution_count": 30,
   "id": "f16e599c",
   "metadata": {
    "execution": {
     "iopub.execute_input": "2025-08-25T18:31:34.797554Z",
     "iopub.status.busy": "2025-08-25T18:31:34.797244Z",
     "iopub.status.idle": "2025-08-25T18:31:34.806645Z",
     "shell.execute_reply": "2025-08-25T18:31:34.805753Z"
    },
    "papermill": {
     "duration": 0.025813,
     "end_time": "2025-08-25T18:31:34.808489",
     "exception": false,
     "start_time": "2025-08-25T18:31:34.782676",
     "status": "completed"
    },
    "tags": []
   },
   "outputs": [],
   "source": [
    "platform_sales_yearly = df.groupby([\"Platform\",\"Year\"])[\"Global_Sales\"].sum().reset_index()"
   ]
  },
  {
   "cell_type": "code",
   "execution_count": 31,
   "id": "356e93bf",
   "metadata": {
    "execution": {
     "iopub.execute_input": "2025-08-25T18:31:34.836589Z",
     "iopub.status.busy": "2025-08-25T18:31:34.836235Z",
     "iopub.status.idle": "2025-08-25T18:31:34.847774Z",
     "shell.execute_reply": "2025-08-25T18:31:34.846813Z"
    },
    "papermill": {
     "duration": 0.027118,
     "end_time": "2025-08-25T18:31:34.849443",
     "exception": false,
     "start_time": "2025-08-25T18:31:34.822325",
     "status": "completed"
    },
    "tags": []
   },
   "outputs": [
    {
     "data": {
      "application/vnd.microsoft.datawrangler.viewer.v0+json": {
       "columns": [
        {
         "name": "index",
         "rawType": "int64",
         "type": "integer"
        },
        {
         "name": "Platform",
         "rawType": "object",
         "type": "string"
        },
        {
         "name": "Year",
         "rawType": "int64",
         "type": "integer"
        },
        {
         "name": "Global_Sales",
         "rawType": "float64",
         "type": "float"
        }
       ],
       "ref": "1c86764d-51a3-4cdd-8c39-9305f7a07751",
       "rows": [
        [
         "0",
         "2600",
         "1980",
         "11.379999999999999"
        ],
        [
         "1",
         "2600",
         "1981",
         "35.77"
        ],
        [
         "2",
         "2600",
         "1982",
         "28.86"
        ],
        [
         "3",
         "2600",
         "1983",
         "5.83"
        ],
        [
         "4",
         "2600",
         "1984",
         "0.27"
        ],
        [
         "5",
         "2600",
         "1985",
         "0.45"
        ],
        [
         "6",
         "2600",
         "1986",
         "0.6599999999999999"
        ],
        [
         "7",
         "2600",
         "1987",
         "1.98"
        ],
        [
         "8",
         "2600",
         "1988",
         "0.75"
        ],
        [
         "9",
         "2600",
         "1989",
         "0.62"
        ],
        [
         "10",
         "3DO",
         "1994",
         "0.02"
        ],
        [
         "11",
         "3DO",
         "1995",
         "0.08"
        ],
        [
         "12",
         "3DS",
         "2011",
         "62.53"
        ],
        [
         "13",
         "3DS",
         "2012",
         "51.14"
        ],
        [
         "14",
         "3DS",
         "2013",
         "55.88"
        ],
        [
         "15",
         "3DS",
         "2014",
         "43.13"
        ],
        [
         "16",
         "3DS",
         "2015",
         "26.99"
        ],
        [
         "17",
         "3DS",
         "2016",
         "6.6000000000000005"
        ],
        [
         "18",
         "DC",
         "1998",
         "3.39"
        ],
        [
         "19",
         "DC",
         "1999",
         "5.17"
        ],
        [
         "20",
         "DC",
         "2000",
         "5.99"
        ],
        [
         "21",
         "DC",
         "2001",
         "1.07"
        ],
        [
         "22",
         "DC",
         "2002",
         "0.29"
        ],
        [
         "23",
         "DC",
         "2007",
         "0.02"
        ],
        [
         "24",
         "DC",
         "2008",
         "0.04"
        ],
        [
         "25",
         "DS",
         "1985",
         "0.02"
        ],
        [
         "26",
         "DS",
         "2004",
         "17.46"
        ],
        [
         "27",
         "DS",
         "2005",
         "131.4"
        ],
        [
         "28",
         "DS",
         "2006",
         "121.15"
        ],
        [
         "29",
         "DS",
         "2007",
         "149.36"
        ],
        [
         "30",
         "DS",
         "2008",
         "147.89"
        ],
        [
         "31",
         "DS",
         "2009",
         "121.99"
        ],
        [
         "32",
         "DS",
         "2010",
         "87.98"
        ],
        [
         "33",
         "DS",
         "2011",
         "27.8"
        ],
        [
         "34",
         "DS",
         "2012",
         "11.59"
        ],
        [
         "35",
         "DS",
         "2013",
         "1.96"
        ],
        [
         "36",
         "DS",
         "2014",
         "0.02"
        ],
        [
         "37",
         "DS",
         "2020",
         "0.29"
        ],
        [
         "38",
         "GB",
         "1988",
         "1.43"
        ],
        [
         "39",
         "GB",
         "1989",
         "64.98"
        ],
        [
         "40",
         "GB",
         "1990",
         "4.89"
        ],
        [
         "41",
         "GB",
         "1991",
         "5.57"
        ],
        [
         "42",
         "GB",
         "1992",
         "25.48"
        ],
        [
         "43",
         "GB",
         "1994",
         "12.17"
        ],
        [
         "44",
         "GB",
         "1995",
         "3.5999999999999996"
        ],
        [
         "45",
         "GB",
         "1996",
         "36.02"
        ],
        [
         "46",
         "GB",
         "1997",
         "6.37"
        ],
        [
         "47",
         "GB",
         "1998",
         "26.900000000000002"
        ],
        [
         "48",
         "GB",
         "1999",
         "38.01"
        ],
        [
         "49",
         "GB",
         "2000",
         "19.76"
        ]
       ],
       "shape": {
        "columns": 3,
        "rows": 241
       }
      },
      "text/html": [
       "<div>\n",
       "<style scoped>\n",
       "    .dataframe tbody tr th:only-of-type {\n",
       "        vertical-align: middle;\n",
       "    }\n",
       "\n",
       "    .dataframe tbody tr th {\n",
       "        vertical-align: top;\n",
       "    }\n",
       "\n",
       "    .dataframe thead th {\n",
       "        text-align: right;\n",
       "    }\n",
       "</style>\n",
       "<table border=\"1\" class=\"dataframe\">\n",
       "  <thead>\n",
       "    <tr style=\"text-align: right;\">\n",
       "      <th></th>\n",
       "      <th>Platform</th>\n",
       "      <th>Year</th>\n",
       "      <th>Global_Sales</th>\n",
       "    </tr>\n",
       "  </thead>\n",
       "  <tbody>\n",
       "    <tr>\n",
       "      <th>0</th>\n",
       "      <td>2600</td>\n",
       "      <td>1980</td>\n",
       "      <td>11.38</td>\n",
       "    </tr>\n",
       "    <tr>\n",
       "      <th>1</th>\n",
       "      <td>2600</td>\n",
       "      <td>1981</td>\n",
       "      <td>35.77</td>\n",
       "    </tr>\n",
       "    <tr>\n",
       "      <th>2</th>\n",
       "      <td>2600</td>\n",
       "      <td>1982</td>\n",
       "      <td>28.86</td>\n",
       "    </tr>\n",
       "    <tr>\n",
       "      <th>3</th>\n",
       "      <td>2600</td>\n",
       "      <td>1983</td>\n",
       "      <td>5.83</td>\n",
       "    </tr>\n",
       "    <tr>\n",
       "      <th>4</th>\n",
       "      <td>2600</td>\n",
       "      <td>1984</td>\n",
       "      <td>0.27</td>\n",
       "    </tr>\n",
       "    <tr>\n",
       "      <th>...</th>\n",
       "      <td>...</td>\n",
       "      <td>...</td>\n",
       "      <td>...</td>\n",
       "    </tr>\n",
       "    <tr>\n",
       "      <th>236</th>\n",
       "      <td>XB</td>\n",
       "      <td>2008</td>\n",
       "      <td>0.18</td>\n",
       "    </tr>\n",
       "    <tr>\n",
       "      <th>237</th>\n",
       "      <td>XOne</td>\n",
       "      <td>2013</td>\n",
       "      <td>18.60</td>\n",
       "    </tr>\n",
       "    <tr>\n",
       "      <th>238</th>\n",
       "      <td>XOne</td>\n",
       "      <td>2014</td>\n",
       "      <td>52.43</td>\n",
       "    </tr>\n",
       "    <tr>\n",
       "      <th>239</th>\n",
       "      <td>XOne</td>\n",
       "      <td>2015</td>\n",
       "      <td>57.66</td>\n",
       "    </tr>\n",
       "    <tr>\n",
       "      <th>240</th>\n",
       "      <td>XOne</td>\n",
       "      <td>2016</td>\n",
       "      <td>12.37</td>\n",
       "    </tr>\n",
       "  </tbody>\n",
       "</table>\n",
       "<p>241 rows × 3 columns</p>\n",
       "</div>"
      ],
      "text/plain": [
       "    Platform  Year  Global_Sales\n",
       "0       2600  1980         11.38\n",
       "1       2600  1981         35.77\n",
       "2       2600  1982         28.86\n",
       "3       2600  1983          5.83\n",
       "4       2600  1984          0.27\n",
       "..       ...   ...           ...\n",
       "236       XB  2008          0.18\n",
       "237     XOne  2013         18.60\n",
       "238     XOne  2014         52.43\n",
       "239     XOne  2015         57.66\n",
       "240     XOne  2016         12.37\n",
       "\n",
       "[241 rows x 3 columns]"
      ]
     },
     "execution_count": 31,
     "metadata": {},
     "output_type": "execute_result"
    }
   ],
   "source": [
    "platform_sales_yearly"
   ]
  },
  {
   "cell_type": "code",
   "execution_count": 32,
   "id": "da605d39",
   "metadata": {
    "execution": {
     "iopub.execute_input": "2025-08-25T18:31:34.877450Z",
     "iopub.status.busy": "2025-08-25T18:31:34.877125Z",
     "iopub.status.idle": "2025-08-25T18:31:34.890412Z",
     "shell.execute_reply": "2025-08-25T18:31:34.889203Z"
    },
    "papermill": {
     "duration": 0.029547,
     "end_time": "2025-08-25T18:31:34.892410",
     "exception": false,
     "start_time": "2025-08-25T18:31:34.862863",
     "status": "completed"
    },
    "tags": []
   },
   "outputs": [
    {
     "data": {
      "application/vnd.microsoft.datawrangler.viewer.v0+json": {
       "columns": [
        {
         "name": "index",
         "rawType": "int64",
         "type": "integer"
        },
        {
         "name": "Platform",
         "rawType": "object",
         "type": "string"
        },
        {
         "name": "Name",
         "rawType": "int64",
         "type": "integer"
        }
       ],
       "ref": "f743f7b3-a7d1-43cc-819f-998c226439e9",
       "rows": [
        [
         "4",
         "DS",
         "2131"
        ],
        [
         "16",
         "PS2",
         "2127"
        ],
        [
         "17",
         "PS3",
         "1304"
        ],
        [
         "26",
         "Wii",
         "1290"
        ],
        [
         "28",
         "X360",
         "1234"
        ]
       ],
       "shape": {
        "columns": 2,
        "rows": 5
       }
      },
      "text/html": [
       "<div>\n",
       "<style scoped>\n",
       "    .dataframe tbody tr th:only-of-type {\n",
       "        vertical-align: middle;\n",
       "    }\n",
       "\n",
       "    .dataframe tbody tr th {\n",
       "        vertical-align: top;\n",
       "    }\n",
       "\n",
       "    .dataframe thead th {\n",
       "        text-align: right;\n",
       "    }\n",
       "</style>\n",
       "<table border=\"1\" class=\"dataframe\">\n",
       "  <thead>\n",
       "    <tr style=\"text-align: right;\">\n",
       "      <th></th>\n",
       "      <th>Platform</th>\n",
       "      <th>Name</th>\n",
       "    </tr>\n",
       "  </thead>\n",
       "  <tbody>\n",
       "    <tr>\n",
       "      <th>4</th>\n",
       "      <td>DS</td>\n",
       "      <td>2131</td>\n",
       "    </tr>\n",
       "    <tr>\n",
       "      <th>16</th>\n",
       "      <td>PS2</td>\n",
       "      <td>2127</td>\n",
       "    </tr>\n",
       "    <tr>\n",
       "      <th>17</th>\n",
       "      <td>PS3</td>\n",
       "      <td>1304</td>\n",
       "    </tr>\n",
       "    <tr>\n",
       "      <th>26</th>\n",
       "      <td>Wii</td>\n",
       "      <td>1290</td>\n",
       "    </tr>\n",
       "    <tr>\n",
       "      <th>28</th>\n",
       "      <td>X360</td>\n",
       "      <td>1234</td>\n",
       "    </tr>\n",
       "  </tbody>\n",
       "</table>\n",
       "</div>"
      ],
      "text/plain": [
       "   Platform  Name\n",
       "4        DS  2131\n",
       "16      PS2  2127\n",
       "17      PS3  1304\n",
       "26      Wii  1290\n",
       "28     X360  1234"
      ]
     },
     "execution_count": 32,
     "metadata": {},
     "output_type": "execute_result"
    }
   ],
   "source": [
    "top_platform = df.groupby(\"Platform\")[\"Name\"].count().reset_index().sort_values(\"Name\",ascending=False).head(5)\n",
    "top_platform"
   ]
  },
  {
   "cell_type": "code",
   "execution_count": 33,
   "id": "2724bbc6",
   "metadata": {
    "execution": {
     "iopub.execute_input": "2025-08-25T18:31:34.922505Z",
     "iopub.status.busy": "2025-08-25T18:31:34.922190Z",
     "iopub.status.idle": "2025-08-25T18:31:35.111791Z",
     "shell.execute_reply": "2025-08-25T18:31:35.110944Z"
    },
    "papermill": {
     "duration": 0.206742,
     "end_time": "2025-08-25T18:31:35.113468",
     "exception": false,
     "start_time": "2025-08-25T18:31:34.906726",
     "status": "completed"
    },
    "tags": []
   },
   "outputs": [
    {
     "data": {
      "image/png": "[encoded data removed]",
      "text/plain": [
       "<Figure size 640x480 with 1 Axes>"
      ]
     },
     "metadata": {},
     "output_type": "display_data"
    }
   ],
   "source": [
    "for platform in platform_sales_yearly[\"Platform\"].unique():\n",
    "    if platform in top_platform[\"Platform\"].values:\n",
    "        subset = platform_sales_yearly[platform_sales_yearly[\"Platform\"]==platform]\n",
    "        plt.plot(subset[\"Year\"],subset[\"Global_Sales\"], label=platform)\n",
    "    \n",
    "plt.legend()\n",
    "plt.show()"
   ]
  },
  {
   "cell_type": "markdown",
   "id": "253117bd",
   "metadata": {
    "papermill": {
     "duration": 0.016316,
     "end_time": "2025-08-25T18:31:35.146115",
     "exception": false,
     "start_time": "2025-08-25T18:31:35.129799",
     "status": "completed"
    },
    "tags": []
   },
   "source": [
    "Intent was to find the duration of a platforms popularity however this view shows inconclusive results"
   ]
  },
  {
   "cell_type": "code",
   "execution_count": null,
   "id": "cdebaea0",
   "metadata": {},
   "outputs": [],
   "source": []
  }
 ],
 "metadata": {
  "kaggle": {
   "accelerator": "none",
   "dataSources": [
    {
     "datasetId": 284,
     "sourceId": 618,
     "sourceType": "datasetVersion"
    }
   ],
   "dockerImageVersionId": 31089,
   "isGpuEnabled": false,
   "isInternetEnabled": false,
   "language": "python",
   "sourceType": "notebook"
  },
  "kernelspec": {
   "display_name": "Python 3",
   "language": "python",
   "name": "python3"
  },
  "language_info": {
   "codemirror_mode": {
    "name": "ipython",
    "version": 3
   },
   "file_extension": ".py",
   "mimetype": "text/x-python",
   "name": "python",
   "nbconvert_exporter": "python",
   "pygments_lexer": "ipython3",
   "version": "3.13.7"
  },
  "papermill": {
   "default_parameters": {},
   "duration": 13.473726,
   "end_time": "2025-08-25T18:31:36.115046",
   "environment_variables": {},
   "exception": null,
   "input_path": "__notebook__.ipynb",
   "output_path": "__notebook__.ipynb",
   "parameters": {},
   "start_time": "2025-08-25T18:31:22.641320",
   "version": "2.6.0"
  }
 },
 "nbformat": 4,
 "nbformat_minor": 5
}
