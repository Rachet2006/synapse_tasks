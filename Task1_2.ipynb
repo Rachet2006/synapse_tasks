{
 "cells": [
  {
   "cell_type": "markdown",
   "id": "885ea433",
   "metadata": {},
   "source": [
    "You get a rare chance to work with Hermione Granger at Hogwarts.\n",
    "The night is dark, the corridors echo with whispers, and she urgently needs to light her way\n",
    "using the spell “LUMOS”.\n",
    "To prepare, Hermione reaches into her enchanted pouch that contains glowing runes (letters).\n",
    "She pulls out one rune at a time, each shining faintly in the dark.\n",
    "\n",
    "Your task is to determine the earliest step at which Hermione can first form the word “LUMOS”\n",
    "from the runes she has collected so far.\n",
    "The order of runes does not matter (Hermione is smart enough to rearrange them).\n",
    "Ignore case (both uppercase and lowercase letters work).\n",
    "If it is impossible to form “LUMOS” from the given sequence of runes, print -1."
   ]
  },
  {
   "cell_type": "code",
   "execution_count": 4,
   "id": "c7439a77",
   "metadata": {},
   "outputs": [],
   "source": [
    "def lumos(magic_pouch):\n",
    "    if len(magic_pouch)<5:\n",
    "        return -1\n",
    "    else:\n",
    "        checklist = {\"l\":0, \"u\":0, \"m\":0, \"o\":0, \"s\":0}\n",
    "        turns = 0\n",
    "        for i in magic_pouch.lower():\n",
    "            if i in checklist.keys():\n",
    "                checklist[i] = 1\n",
    "\n",
    "            turns += 1\n",
    "\n",
    "            if list(checklist.values()).count(0) == 0:\n",
    "                return turns\n",
    "        return -1\n"
   ]
  },
  {
   "cell_type": "code",
   "execution_count": 5,
   "id": "6ecdf722",
   "metadata": {},
   "outputs": [
    {
     "name": "stdout",
     "output_type": "stream",
     "text": [
      "-1\n"
     ]
    }
   ],
   "source": [
    "print(lumos(\"SUOOMS\"))"
   ]
  },
  {
   "cell_type": "code",
   "execution_count": null,
   "id": "749a8385",
   "metadata": {},
   "outputs": [],
   "source": []
  }
 ],
 "metadata": {
  "kernelspec": {
   "display_name": "Python 3",
   "language": "python",
   "name": "python3"
  },
  "language_info": {
   "codemirror_mode": {
    "name": "ipython",
    "version": 3
   },
   "file_extension": ".py",
   "mimetype": "text/x-python",
   "name": "python",
   "nbconvert_exporter": "python",
   "pygments_lexer": "ipython3",
   "version": "3.13.7"
  }
 },
 "nbformat": 4,
 "nbformat_minor": 5
}
