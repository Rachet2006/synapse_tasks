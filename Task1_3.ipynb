{
 "cells": [
  {
   "cell_type": "code",
   "execution_count": 44,
   "id": "93848977",
   "metadata": {},
   "outputs": [],
   "source": [
    "def bomber(arr,m):\n",
    "    n = len(arr)\n",
    "    start = m//2\n",
    "    max_land = 0\n",
    "    indx = [0,0]\n",
    "    best_destroyed = []\n",
    "    for i in range(start,n-start):\n",
    "        for j in range(start,n-start):\n",
    "            land = 0\n",
    "            destroyed = []\n",
    "            if arr[i][j] == 1:\n",
    "                for k in range(i-start,i+start+1):\n",
    "                    for l in range(j-start,j+start+1):\n",
    "                        if arr[k][l] == 1:\n",
    "                            destroyed.append([l,n-k-1])\n",
    "                            land += 1\n",
    "                        \n",
    "                if land>max_land:\n",
    "                    max_land = land\n",
    "                    indx = [j,n-i-1]\n",
    "                    best_destroyed = destroyed\n",
    "\n",
    "\n",
    "    return best_destroyed"
   ]
  },
  {
   "cell_type": "code",
   "execution_count": 45,
   "id": "6d907149",
   "metadata": {},
   "outputs": [
    {
     "name": "stdout",
     "output_type": "stream",
     "text": [
      "[[2, 3], [3, 3], [4, 3], [3, 2], [4, 2], [2, 1], [3, 1]]\n"
     ]
    }
   ],
   "source": [
    "print(bomber([\n",
    "[1,0,0,0,1],\n",
    "[1,0,1,1,1],\n",
    "[1,1,0,1,1],\n",
    "[1,0,1,1,0],\n",
    "[0,1,0,1,1]\n",
    "],3))"
   ]
  }
 ],
 "metadata": {
  "kernelspec": {
   "display_name": "Python 3",
   "language": "python",
   "name": "python3"
  },
  "language_info": {
   "codemirror_mode": {
    "name": "ipython",
    "version": 3
   },
   "file_extension": ".py",
   "mimetype": "text/x-python",
   "name": "python",
   "nbconvert_exporter": "python",
   "pygments_lexer": "ipython3",
   "version": "3.13.7"
  }
 },
 "nbformat": 4,
 "nbformat_minor": 5
}
