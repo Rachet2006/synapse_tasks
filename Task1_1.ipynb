{
 "cells": [
  {
   "cell_type": "code",
   "execution_count": 17,
   "metadata": {},
   "outputs": [],
   "source": [
    "import itertools as it"
   ]
  },
  {
   "cell_type": "code",
   "execution_count": 58,
   "metadata": {},
   "outputs": [],
   "source": [
    "Pokedex = {\n",
    "\"Pikachu\": (\"Electric\",),\n",
    "\"Charizard\": (\"Fire\", \"Flying\"),\n",
    "\"Lapras\": (\"Water\", \"Ice\"),\n",
    "\"Machamp\": (\"Fighting\",),\n",
    "\"Mewtwo\": (\"Psychic\", \"Fighting\"),\n",
    "\"Hoopa\": (\"Psychic\", \"Ghost\", \"Dark\"),\n",
    "\"Lugia\": (\"Psychic\", \"Flying\", \"Water\"),\n",
    "\"Squirtle\": (\"Water\",),\n",
    "\"Gengar\": (\"Ghost\", \"Poison\"),\n",
    "\"Onix\": (\"Rock\", \"Ground\")\n",
    "}"
   ]
  },
  {
   "cell_type": "code",
   "execution_count": null,
   "metadata": {},
   "outputs": [],
   "source": [
    "def team_gen(Pokedex,k):\n",
    "\n",
    "    teams = list(it.combinations(Pokedex.keys(),k))\n",
    "    elements = list(it.combinations(Pokedex.values(),k))\n",
    "    max_val = 0\n",
    "    max_indx = 0\n",
    "    \n",
    "    for i in range(len(elements)):\n",
    "        element = []  \n",
    "        for j in elements[i]:      \n",
    "            for l in j:\n",
    "                if l not in element:\n",
    "                    element.append(l)\n",
    "                else:\n",
    "                    continue\n",
    "            \n",
    "        if len(element)>max_val:\n",
    "            max_val = len(element)\n",
    "            max_indx = i\n",
    "\n",
    "    print(teams[max_indx])\n",
    "\n"
   ]
  },
  {
   "cell_type": "code",
   "execution_count": 81,
   "metadata": {},
   "outputs": [
    {
     "name": "stdout",
     "output_type": "stream",
     "text": [
      "['Electric', 'Fire', 'Flying', 'Water', 'Ice', 'Fighting', 'Psychic']\n",
      "['Electric', 'Fire', 'Flying', 'Water', 'Ice', 'Fighting', 'Psychic', 'Ghost', 'Dark']\n",
      "['Electric', 'Fire', 'Flying', 'Water', 'Ice', 'Psychic', 'Ghost', 'Dark', 'Rock', 'Ground']\n",
      "('Pikachu', 'Charizard', 'Lapras', 'Hoopa', 'Onix')\n"
     ]
    }
   ],
   "source": [
    "team_gen(Pokedex,5)"
   ]
  }
 ],
 "metadata": {
  "kernelspec": {
   "display_name": "py313",
   "language": "python",
   "name": "python3"
  },
  "language_info": {
   "codemirror_mode": {
    "name": "ipython",
    "version": 3
   },
   "file_extension": ".py",
   "mimetype": "text/x-python",
   "name": "python",
   "nbconvert_exporter": "python",
   "pygments_lexer": "ipython3",
   "version": "3.13.7"
  }
 },
 "nbformat": 4,
 "nbformat_minor": 2
}
