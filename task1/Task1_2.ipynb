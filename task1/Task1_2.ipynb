{
 "cells": [
  {
   "cell_type": "code",
   "execution_count": null,
   "id": "c7439a77",
   "metadata": {},
   "outputs": [],
   "source": [
    "def lumos(magic_pouch):\n",
    "    if len(magic_pouch)<5:\n",
    "        return -1\n",
    "    else:\n",
    "        checklist = {\"l\":0, \"u\":0, \"m\":0, \"o\":0, \"s\":0}\n",
    "        turns = 0\n",
    "        for i in magic_pouch.lower():\n",
    "            if i in checklist.keys():\n",
    "                checklist[i] = 1\n",
    "\n",
    "            turns += 1\n",
    "\n",
    "            if list(checklist.values()).count(0) == 0:\n",
    "                return turns\n",
    "        return -1\n"
   ]
  },
  {
   "cell_type": "code",
   "execution_count": 8,
   "id": "6ecdf722",
   "metadata": {},
   "outputs": [
    {
     "name": "stdout",
     "output_type": "stream",
     "text": [
      "7\n"
     ]
    }
   ],
   "source": [
    "print(lumos(\"lUOaOMSa\"))"
   ]
  }
 ],
 "metadata": {
  "kernelspec": {
   "display_name": "Python 3",
   "language": "python",
   "name": "python3"
  },
  "language_info": {
   "codemirror_mode": {
    "name": "ipython",
    "version": 3
   },
   "file_extension": ".py",
   "mimetype": "text/x-python",
   "name": "python",
   "nbconvert_exporter": "python",
   "pygments_lexer": "ipython3",
   "version": "3.13.7"
  }
 },
 "nbformat": 4,
 "nbformat_minor": 5
}
